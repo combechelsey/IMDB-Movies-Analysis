{
 "cells": [
  {
   "cell_type": "markdown",
   "id": "329ef478",
   "metadata": {},
   "source": [
    "**Exploratory Data Analysis**\n",
    "\n",
    "- Load in your csv.gz's of results for each year extracted.\n",
    "    - Concatenate the data into 1 dataframe for the remainder of the analysis.\n",
    "- Once you have your data from the API, they would like you to perform some light EDA to show:\n",
    "    - How many movies had at least some valid financial information (values > 0 for budget OR revenue)?\n",
    "        - Please exclude any movies with 0's for budget AND revenue from the remaining visualizations.\n",
    "    - How many movies are there in each of the certification categories (G/PG/PG-13/R)?\n",
    "    - What is the average revenue per certification category?\n",
    "    - What is the average budget per certification category?\n",
    "\n",
    "\n",
    "**Deliverables**\n",
    "\n",
    "After you have joined the tmdb results into 1 dataframe in the EDA Notebook,\n",
    "\n",
    "- Save a final merged .csv.gz of all of the tmdb api data\n",
    "- The file name should be \"tmdb_results_combined.csv.gz\"\n",
    "- Make sure this is pushed to your github repository along with all of your code\n",
    "    - One code file for API calls\n",
    "    - One code file for EDA\n",
    "- Submit the link"
   ]
  },
  {
   "cell_type": "code",
   "execution_count": 1,
   "id": "3f3521a7",
   "metadata": {},
   "outputs": [],
   "source": [
    "import pandas as pd\n",
    "import numpy as np\n",
    "import json\n",
    "\n",
    "\n",
    "# Import year 2000 dataset\n",
    "year2000 = r\"C:\\Users\\admin\\Documents\\GitHub\\IMDB-Movies-Analysis\\Data\\final_tmdb_data_2000.csv.gz\"\n",
    "\n",
    "\n",
    "year2000 = pd.read_csv(year2000, sep=\"\\t\", low_memory= False)"
   ]
  },
  {
   "cell_type": "code",
   "execution_count": 2,
   "id": "2195b820",
   "metadata": {},
   "outputs": [
    {
     "data": {
      "text/html": [
       "<div>\n",
       "<style scoped>\n",
       "    .dataframe tbody tr th:only-of-type {\n",
       "        vertical-align: middle;\n",
       "    }\n",
       "\n",
       "    .dataframe tbody tr th {\n",
       "        vertical-align: top;\n",
       "    }\n",
       "\n",
       "    .dataframe thead th {\n",
       "        text-align: right;\n",
       "    }\n",
       "</style>\n",
       "<table border=\"1\" class=\"dataframe\">\n",
       "  <thead>\n",
       "    <tr style=\"text-align: right;\">\n",
       "      <th></th>\n",
       "      <th>imdb_id</th>\n",
       "    </tr>\n",
       "  </thead>\n",
       "  <tbody>\n",
       "    <tr>\n",
       "      <th>0</th>\n",
       "      <td>0</td>\n",
       "    </tr>\n",
       "  </tbody>\n",
       "</table>\n",
       "</div>"
      ],
      "text/plain": [
       "   imdb_id\n",
       "0        0"
      ]
     },
     "execution_count": 2,
     "metadata": {},
     "output_type": "execute_result"
    }
   ],
   "source": [
    "# Import year 2001 dataset\n",
    "year2001 = r\"C:\\Users\\admin\\Documents\\GitHub\\IMDB-Movies-Analysis\\Data\\final_tmdb_data_2001.csv.gz\"\n",
    "\n",
    "\n",
    "year2001 = pd.read_csv(year2001, sep=\"\\t\", low_memory= False)\n",
    "\n",
    "year2001.head()"
   ]
  },
  {
   "cell_type": "code",
   "execution_count": 3,
   "id": "4df222c3",
   "metadata": {},
   "outputs": [
    {
     "data": {
      "text/html": [
       "<div>\n",
       "<style scoped>\n",
       "    .dataframe tbody tr th:only-of-type {\n",
       "        vertical-align: middle;\n",
       "    }\n",
       "\n",
       "    .dataframe tbody tr th {\n",
       "        vertical-align: top;\n",
       "    }\n",
       "\n",
       "    .dataframe thead th {\n",
       "        text-align: right;\n",
       "    }\n",
       "</style>\n",
       "<table border=\"1\" class=\"dataframe\">\n",
       "  <thead>\n",
       "    <tr style=\"text-align: right;\">\n",
       "      <th></th>\n",
       "      <th>imdb_id</th>\n",
       "    </tr>\n",
       "  </thead>\n",
       "  <tbody>\n",
       "    <tr>\n",
       "      <th>0</th>\n",
       "      <td>0</td>\n",
       "    </tr>\n",
       "    <tr>\n",
       "      <th>0</th>\n",
       "      <td>0</td>\n",
       "    </tr>\n",
       "  </tbody>\n",
       "</table>\n",
       "</div>"
      ],
      "text/plain": [
       "   imdb_id\n",
       "0        0\n",
       "0        0"
      ]
     },
     "execution_count": 3,
     "metadata": {},
     "output_type": "execute_result"
    }
   ],
   "source": [
    "# Combine years \n",
    "df = pd.concat([year2000, year2001])\n",
    "\n",
    "df.head()"
   ]
  }
 ],
 "metadata": {
  "kernelspec": {
   "display_name": "Python (dojo-env)",
   "language": "python",
   "name": "dojo-env"
  },
  "language_info": {
   "codemirror_mode": {
    "name": "ipython",
    "version": 3
   },
   "file_extension": ".py",
   "mimetype": "text/x-python",
   "name": "python",
   "nbconvert_exporter": "python",
   "pygments_lexer": "ipython3",
   "version": "3.9.15"
  },
  "toc": {
   "base_numbering": 1,
   "nav_menu": {},
   "number_sections": true,
   "sideBar": true,
   "skip_h1_title": false,
   "title_cell": "Table of Contents",
   "title_sidebar": "Contents",
   "toc_cell": false,
   "toc_position": {},
   "toc_section_display": true,
   "toc_window_display": false
  }
 },
 "nbformat": 4,
 "nbformat_minor": 5
}
