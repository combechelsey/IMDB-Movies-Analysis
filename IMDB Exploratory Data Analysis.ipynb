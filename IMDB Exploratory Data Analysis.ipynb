{
 "cells": [
  {
   "cell_type": "markdown",
   "id": "329ef478",
   "metadata": {},
   "source": [
    "**Exploratory Data Analysis**\n",
    "\n",
    "- Load in your csv.gz's of results for each year extracted.\n",
    "    - Concatenate the data into 1 dataframe for the remainder of the analysis.\n",
    "- Once you have your data from the API, they would like you to perform some light EDA to show:\n",
    "    - How many movies had at least some valid financial information (values > 0 for budget OR revenue)?\n",
    "        - Please exclude any movies with 0's for budget AND revenue from the remaining visualizations.\n",
    "    - How many movies are there in each of the certification categories (G/PG/PG-13/R)?\n",
    "    - What is the average revenue per certification category?\n",
    "    - What is the average budget per certification category?\n",
    "\n",
    "\n",
    "**Deliverables**\n",
    "\n",
    "After you have joined the tmdb results into 1 dataframe in the EDA Notebook,\n",
    "\n",
    "- Save a final merged .csv.gz of all of the tmdb api data\n",
    "- The file name should be \"tmdb_results_combined.csv.gz\"\n",
    "- Make sure this is pushed to your github repository along with all of your code\n",
    "    - One code file for API calls\n",
    "    - One code file for EDA\n",
    "- Submit the link"
   ]
  },
  {
   "cell_type": "code",
   "execution_count": 1,
   "id": "a2c254a3",
   "metadata": {},
   "outputs": [],
   "source": [
    "import pandas as pd\n",
    "import numpy as np\n",
    "import matplotlib.pyplot as plt\n",
    "import seaborn as sns\n",
    "import matplotlib as mpl\n",
    "\n",
    "import warnings\n",
    "warnings.filterwarnings('ignore')"
   ]
  },
  {
   "cell_type": "code",
   "execution_count": 2,
   "id": "3f3521a7",
   "metadata": {
    "scrolled": true
   },
   "outputs": [
    {
     "name": "stdout",
     "output_type": "stream",
     "text": [
      "<class 'pandas.core.frame.DataFrame'>\n",
      "RangeIndex: 1252 entries, 0 to 1251\n",
      "Data columns (total 26 columns):\n",
      " #   Column                 Non-Null Count  Dtype  \n",
      "---  ------                 --------------  -----  \n",
      " 0   imdb_id                1252 non-null   object \n",
      " 1   adult                  1251 non-null   float64\n",
      " 2   backdrop_path          704 non-null    object \n",
      " 3   belongs_to_collection  116 non-null    object \n",
      " 4   budget                 1251 non-null   float64\n",
      " 5   genres                 1251 non-null   object \n",
      " 6   homepage               63 non-null     object \n",
      " 7   id                     1251 non-null   float64\n",
      " 8   original_language      1251 non-null   object \n",
      " 9   original_title         1251 non-null   object \n",
      " 10  overview               1231 non-null   object \n",
      " 11  popularity             1251 non-null   float64\n",
      " 12  poster_path            1136 non-null   object \n",
      " 13  production_companies   1251 non-null   object \n",
      " 14  production_countries   1251 non-null   object \n",
      " 15  release_date           1243 non-null   object \n",
      " 16  revenue                1251 non-null   float64\n",
      " 17  runtime                1251 non-null   float64\n",
      " 18  spoken_languages       1251 non-null   object \n",
      " 19  status                 1251 non-null   object \n",
      " 20  tagline                560 non-null    object \n",
      " 21  title                  1251 non-null   object \n",
      " 22  video                  1251 non-null   float64\n",
      " 23  vote_average           1251 non-null   float64\n",
      " 24  vote_count             1251 non-null   float64\n",
      " 25  certification          395 non-null    object \n",
      "dtypes: float64(9), object(17)\n",
      "memory usage: 254.4+ KB\n"
     ]
    }
   ],
   "source": [
    "# Import year 2000 dataset\n",
    "year2000 = r\"C:\\Users\\admin\\Documents\\GitHub\\IMDB-Movies-Analysis\\Data\\final_tmdb_data_2000.csv.gz\"\n",
    "year2000 = pd.read_csv(year2000)\n",
    "\n",
    "year2000.info()"
   ]
  },
  {
   "cell_type": "code",
   "execution_count": 3,
   "id": "2195b820",
   "metadata": {},
   "outputs": [
    {
     "name": "stdout",
     "output_type": "stream",
     "text": [
      "<class 'pandas.core.frame.DataFrame'>\n",
      "RangeIndex: 1345 entries, 0 to 1344\n",
      "Data columns (total 26 columns):\n",
      " #   Column                 Non-Null Count  Dtype  \n",
      "---  ------                 --------------  -----  \n",
      " 0   imdb_id                1345 non-null   object \n",
      " 1   adult                  1344 non-null   float64\n",
      " 2   backdrop_path          737 non-null    object \n",
      " 3   belongs_to_collection  95 non-null     object \n",
      " 4   budget                 1344 non-null   float64\n",
      " 5   genres                 1344 non-null   object \n",
      " 6   homepage               107 non-null    object \n",
      " 7   id                     1344 non-null   float64\n",
      " 8   original_language      1344 non-null   object \n",
      " 9   original_title         1344 non-null   object \n",
      " 10  overview               1321 non-null   object \n",
      " 11  popularity             1344 non-null   float64\n",
      " 12  poster_path            1218 non-null   object \n",
      " 13  production_companies   1344 non-null   object \n",
      " 14  production_countries   1344 non-null   object \n",
      " 15  release_date           1331 non-null   object \n",
      " 16  revenue                1344 non-null   float64\n",
      " 17  runtime                1344 non-null   float64\n",
      " 18  spoken_languages       1344 non-null   object \n",
      " 19  status                 1344 non-null   object \n",
      " 20  tagline                560 non-null    object \n",
      " 21  title                  1344 non-null   object \n",
      " 22  video                  1344 non-null   float64\n",
      " 23  vote_average           1344 non-null   float64\n",
      " 24  vote_count             1344 non-null   float64\n",
      " 25  certification          421 non-null    object \n",
      "dtypes: float64(9), object(17)\n",
      "memory usage: 273.3+ KB\n"
     ]
    }
   ],
   "source": [
    "# Import year 2001 dataset\n",
    "year2001 = r\"C:\\Users\\admin\\Documents\\GitHub\\IMDB-Movies-Analysis\\Data\\final_tmdb_data_2001.csv.gz\"\n",
    "year2001 = pd.read_csv(year2001)\n",
    "\n",
    "year2001.info()"
   ]
  },
  {
   "cell_type": "markdown",
   "id": "52022e09",
   "metadata": {},
   "source": [
    "## Concatenate data into single dataframe"
   ]
  },
  {
   "cell_type": "code",
   "execution_count": 4,
   "id": "4df222c3",
   "metadata": {
    "scrolled": true
   },
   "outputs": [
    {
     "data": {
      "text/html": [
       "<div>\n",
       "<style scoped>\n",
       "    .dataframe tbody tr th:only-of-type {\n",
       "        vertical-align: middle;\n",
       "    }\n",
       "\n",
       "    .dataframe tbody tr th {\n",
       "        vertical-align: top;\n",
       "    }\n",
       "\n",
       "    .dataframe thead th {\n",
       "        text-align: right;\n",
       "    }\n",
       "</style>\n",
       "<table border=\"1\" class=\"dataframe\">\n",
       "  <thead>\n",
       "    <tr style=\"text-align: right;\">\n",
       "      <th></th>\n",
       "      <th>imdb_id</th>\n",
       "      <th>adult</th>\n",
       "      <th>backdrop_path</th>\n",
       "      <th>belongs_to_collection</th>\n",
       "      <th>budget</th>\n",
       "      <th>genres</th>\n",
       "      <th>homepage</th>\n",
       "      <th>id</th>\n",
       "      <th>original_language</th>\n",
       "      <th>original_title</th>\n",
       "      <th>...</th>\n",
       "      <th>revenue</th>\n",
       "      <th>runtime</th>\n",
       "      <th>spoken_languages</th>\n",
       "      <th>status</th>\n",
       "      <th>tagline</th>\n",
       "      <th>title</th>\n",
       "      <th>video</th>\n",
       "      <th>vote_average</th>\n",
       "      <th>vote_count</th>\n",
       "      <th>certification</th>\n",
       "    </tr>\n",
       "  </thead>\n",
       "  <tbody>\n",
       "    <tr>\n",
       "      <th>0</th>\n",
       "      <td>0</td>\n",
       "      <td>NaN</td>\n",
       "      <td>NaN</td>\n",
       "      <td>NaN</td>\n",
       "      <td>NaN</td>\n",
       "      <td>NaN</td>\n",
       "      <td>NaN</td>\n",
       "      <td>NaN</td>\n",
       "      <td>NaN</td>\n",
       "      <td>NaN</td>\n",
       "      <td>...</td>\n",
       "      <td>NaN</td>\n",
       "      <td>NaN</td>\n",
       "      <td>NaN</td>\n",
       "      <td>NaN</td>\n",
       "      <td>NaN</td>\n",
       "      <td>NaN</td>\n",
       "      <td>NaN</td>\n",
       "      <td>NaN</td>\n",
       "      <td>NaN</td>\n",
       "      <td>NaN</td>\n",
       "    </tr>\n",
       "    <tr>\n",
       "      <th>1</th>\n",
       "      <td>tt0113026</td>\n",
       "      <td>0.0</td>\n",
       "      <td>/vMFs7nw6P0bIV1jDsQpxAieAVnH.jpg</td>\n",
       "      <td>NaN</td>\n",
       "      <td>10000000.0</td>\n",
       "      <td>[{'id': 35, 'name': 'Comedy'}, {'id': 10402, '...</td>\n",
       "      <td>NaN</td>\n",
       "      <td>62127.0</td>\n",
       "      <td>en</td>\n",
       "      <td>The Fantasticks</td>\n",
       "      <td>...</td>\n",
       "      <td>0.0</td>\n",
       "      <td>86.0</td>\n",
       "      <td>[{'english_name': 'English', 'iso_639_1': 'en'...</td>\n",
       "      <td>Released</td>\n",
       "      <td>Try to remember the first time magic happened</td>\n",
       "      <td>The Fantasticks</td>\n",
       "      <td>0.0</td>\n",
       "      <td>5.500</td>\n",
       "      <td>22.0</td>\n",
       "      <td>NaN</td>\n",
       "    </tr>\n",
       "    <tr>\n",
       "      <th>2</th>\n",
       "      <td>tt0113092</td>\n",
       "      <td>0.0</td>\n",
       "      <td>NaN</td>\n",
       "      <td>NaN</td>\n",
       "      <td>0.0</td>\n",
       "      <td>[{'id': 878, 'name': 'Science Fiction'}]</td>\n",
       "      <td>NaN</td>\n",
       "      <td>110977.0</td>\n",
       "      <td>en</td>\n",
       "      <td>For the Cause</td>\n",
       "      <td>...</td>\n",
       "      <td>0.0</td>\n",
       "      <td>100.0</td>\n",
       "      <td>[{'english_name': 'English', 'iso_639_1': 'en'...</td>\n",
       "      <td>Released</td>\n",
       "      <td>The ultimate showdown on a forbidden planet.</td>\n",
       "      <td>For the Cause</td>\n",
       "      <td>0.0</td>\n",
       "      <td>5.450</td>\n",
       "      <td>10.0</td>\n",
       "      <td>NaN</td>\n",
       "    </tr>\n",
       "    <tr>\n",
       "      <th>3</th>\n",
       "      <td>tt0116391</td>\n",
       "      <td>0.0</td>\n",
       "      <td>NaN</td>\n",
       "      <td>NaN</td>\n",
       "      <td>0.0</td>\n",
       "      <td>[{'id': 18, 'name': 'Drama'}, {'id': 28, 'name...</td>\n",
       "      <td>NaN</td>\n",
       "      <td>442869.0</td>\n",
       "      <td>hi</td>\n",
       "      <td>Gang</td>\n",
       "      <td>...</td>\n",
       "      <td>0.0</td>\n",
       "      <td>152.0</td>\n",
       "      <td>[{'english_name': 'Hindi', 'iso_639_1': 'hi', ...</td>\n",
       "      <td>Released</td>\n",
       "      <td>NaN</td>\n",
       "      <td>Gang</td>\n",
       "      <td>0.0</td>\n",
       "      <td>4.000</td>\n",
       "      <td>1.0</td>\n",
       "      <td>NaN</td>\n",
       "    </tr>\n",
       "    <tr>\n",
       "      <th>4</th>\n",
       "      <td>tt0118694</td>\n",
       "      <td>0.0</td>\n",
       "      <td>/n4GJFGzsc7NinI1VeGDXIcQjtU2.jpg</td>\n",
       "      <td>NaN</td>\n",
       "      <td>150000.0</td>\n",
       "      <td>[{'id': 18, 'name': 'Drama'}, {'id': 10749, 'n...</td>\n",
       "      <td>NaN</td>\n",
       "      <td>843.0</td>\n",
       "      <td>cn</td>\n",
       "      <td>花樣年華</td>\n",
       "      <td>...</td>\n",
       "      <td>14204632.0</td>\n",
       "      <td>99.0</td>\n",
       "      <td>[{'english_name': 'Cantonese', 'iso_639_1': 'c...</td>\n",
       "      <td>Released</td>\n",
       "      <td>Feel the heat, keep the feeling burning, let t...</td>\n",
       "      <td>In the Mood for Love</td>\n",
       "      <td>0.0</td>\n",
       "      <td>8.113</td>\n",
       "      <td>2300.0</td>\n",
       "      <td>PG</td>\n",
       "    </tr>\n",
       "  </tbody>\n",
       "</table>\n",
       "<p>5 rows × 26 columns</p>\n",
       "</div>"
      ],
      "text/plain": [
       "     imdb_id  adult                     backdrop_path belongs_to_collection  \\\n",
       "0          0    NaN                               NaN                   NaN   \n",
       "1  tt0113026    0.0  /vMFs7nw6P0bIV1jDsQpxAieAVnH.jpg                   NaN   \n",
       "2  tt0113092    0.0                               NaN                   NaN   \n",
       "3  tt0116391    0.0                               NaN                   NaN   \n",
       "4  tt0118694    0.0  /n4GJFGzsc7NinI1VeGDXIcQjtU2.jpg                   NaN   \n",
       "\n",
       "       budget                                             genres homepage  \\\n",
       "0         NaN                                                NaN      NaN   \n",
       "1  10000000.0  [{'id': 35, 'name': 'Comedy'}, {'id': 10402, '...      NaN   \n",
       "2         0.0           [{'id': 878, 'name': 'Science Fiction'}]      NaN   \n",
       "3         0.0  [{'id': 18, 'name': 'Drama'}, {'id': 28, 'name...      NaN   \n",
       "4    150000.0  [{'id': 18, 'name': 'Drama'}, {'id': 10749, 'n...      NaN   \n",
       "\n",
       "         id original_language   original_title  ...     revenue  runtime  \\\n",
       "0       NaN               NaN              NaN  ...         NaN      NaN   \n",
       "1   62127.0                en  The Fantasticks  ...         0.0     86.0   \n",
       "2  110977.0                en    For the Cause  ...         0.0    100.0   \n",
       "3  442869.0                hi             Gang  ...         0.0    152.0   \n",
       "4     843.0                cn             花樣年華  ...  14204632.0     99.0   \n",
       "\n",
       "                                    spoken_languages    status  \\\n",
       "0                                                NaN       NaN   \n",
       "1  [{'english_name': 'English', 'iso_639_1': 'en'...  Released   \n",
       "2  [{'english_name': 'English', 'iso_639_1': 'en'...  Released   \n",
       "3  [{'english_name': 'Hindi', 'iso_639_1': 'hi', ...  Released   \n",
       "4  [{'english_name': 'Cantonese', 'iso_639_1': 'c...  Released   \n",
       "\n",
       "                                             tagline                 title  \\\n",
       "0                                                NaN                   NaN   \n",
       "1      Try to remember the first time magic happened       The Fantasticks   \n",
       "2       The ultimate showdown on a forbidden planet.         For the Cause   \n",
       "3                                                NaN                  Gang   \n",
       "4  Feel the heat, keep the feeling burning, let t...  In the Mood for Love   \n",
       "\n",
       "   video  vote_average vote_count certification  \n",
       "0    NaN           NaN        NaN           NaN  \n",
       "1    0.0         5.500       22.0           NaN  \n",
       "2    0.0         5.450       10.0           NaN  \n",
       "3    0.0         4.000        1.0           NaN  \n",
       "4    0.0         8.113     2300.0            PG  \n",
       "\n",
       "[5 rows x 26 columns]"
      ]
     },
     "execution_count": 4,
     "metadata": {},
     "output_type": "execute_result"
    }
   ],
   "source": [
    "# Combine years \n",
    "df = pd.concat([year2000, year2001])\n",
    "\n",
    "df.head()"
   ]
  },
  {
   "cell_type": "markdown",
   "id": "b1ceb127",
   "metadata": {},
   "source": [
    "Stockholder questions to answer:\n",
    "\n",
    "- How many movies had at least some valid financial information (values > 0 for budget OR revenue)?\n",
    "        - Please exclude any movies with 0's for budget AND revenue from the remaining visualizations."
   ]
  },
  {
   "cell_type": "code",
   "execution_count": 5,
   "id": "646b50d5",
   "metadata": {
    "scrolled": true
   },
   "outputs": [
    {
     "data": {
      "text/html": [
       "<div>\n",
       "<style scoped>\n",
       "    .dataframe tbody tr th:only-of-type {\n",
       "        vertical-align: middle;\n",
       "    }\n",
       "\n",
       "    .dataframe tbody tr th {\n",
       "        vertical-align: top;\n",
       "    }\n",
       "\n",
       "    .dataframe thead th {\n",
       "        text-align: right;\n",
       "    }\n",
       "</style>\n",
       "<table border=\"1\" class=\"dataframe\">\n",
       "  <thead>\n",
       "    <tr style=\"text-align: right;\">\n",
       "      <th></th>\n",
       "      <th>adult</th>\n",
       "      <th>budget</th>\n",
       "      <th>id</th>\n",
       "      <th>popularity</th>\n",
       "      <th>revenue</th>\n",
       "      <th>runtime</th>\n",
       "      <th>video</th>\n",
       "      <th>vote_average</th>\n",
       "      <th>vote_count</th>\n",
       "    </tr>\n",
       "  </thead>\n",
       "  <tbody>\n",
       "    <tr>\n",
       "      <th>count</th>\n",
       "      <td>644.0</td>\n",
       "      <td>6.440000e+02</td>\n",
       "      <td>6.440000e+02</td>\n",
       "      <td>644.000000</td>\n",
       "      <td>6.440000e+02</td>\n",
       "      <td>644.000000</td>\n",
       "      <td>644.000000</td>\n",
       "      <td>644.000000</td>\n",
       "      <td>644.000000</td>\n",
       "    </tr>\n",
       "    <tr>\n",
       "      <th>mean</th>\n",
       "      <td>0.0</td>\n",
       "      <td>2.076473e+07</td>\n",
       "      <td>6.194106e+04</td>\n",
       "      <td>10.655547</td>\n",
       "      <td>4.364547e+07</td>\n",
       "      <td>104.099379</td>\n",
       "      <td>0.001553</td>\n",
       "      <td>5.694727</td>\n",
       "      <td>1047.723602</td>\n",
       "    </tr>\n",
       "    <tr>\n",
       "      <th>std</th>\n",
       "      <td>0.0</td>\n",
       "      <td>2.881461e+07</td>\n",
       "      <td>1.478798e+05</td>\n",
       "      <td>13.669967</td>\n",
       "      <td>9.762453e+07</td>\n",
       "      <td>21.593719</td>\n",
       "      <td>0.039406</td>\n",
       "      <td>1.701703</td>\n",
       "      <td>2506.390347</td>\n",
       "    </tr>\n",
       "    <tr>\n",
       "      <th>min</th>\n",
       "      <td>0.0</td>\n",
       "      <td>0.000000e+00</td>\n",
       "      <td>1.600000e+01</td>\n",
       "      <td>0.600000</td>\n",
       "      <td>0.000000e+00</td>\n",
       "      <td>0.000000</td>\n",
       "      <td>0.000000</td>\n",
       "      <td>0.000000</td>\n",
       "      <td>0.000000</td>\n",
       "    </tr>\n",
       "    <tr>\n",
       "      <th>25%</th>\n",
       "      <td>0.0</td>\n",
       "      <td>4.750000e+05</td>\n",
       "      <td>9.288750e+03</td>\n",
       "      <td>3.254750</td>\n",
       "      <td>0.000000e+00</td>\n",
       "      <td>91.000000</td>\n",
       "      <td>0.000000</td>\n",
       "      <td>5.299500</td>\n",
       "      <td>27.000000</td>\n",
       "    </tr>\n",
       "    <tr>\n",
       "      <th>50%</th>\n",
       "      <td>0.0</td>\n",
       "      <td>7.400000e+06</td>\n",
       "      <td>1.477850e+04</td>\n",
       "      <td>8.182000</td>\n",
       "      <td>1.844592e+06</td>\n",
       "      <td>100.000000</td>\n",
       "      <td>0.000000</td>\n",
       "      <td>6.050000</td>\n",
       "      <td>189.500000</td>\n",
       "    </tr>\n",
       "    <tr>\n",
       "      <th>75%</th>\n",
       "      <td>0.0</td>\n",
       "      <td>3.000000e+07</td>\n",
       "      <td>4.499700e+04</td>\n",
       "      <td>12.993750</td>\n",
       "      <td>3.758817e+07</td>\n",
       "      <td>113.000000</td>\n",
       "      <td>0.000000</td>\n",
       "      <td>6.667250</td>\n",
       "      <td>858.500000</td>\n",
       "    </tr>\n",
       "    <tr>\n",
       "      <th>max</th>\n",
       "      <td>0.0</td>\n",
       "      <td>1.400000e+08</td>\n",
       "      <td>1.161712e+06</td>\n",
       "      <td>200.177000</td>\n",
       "      <td>9.764756e+08</td>\n",
       "      <td>224.000000</td>\n",
       "      <td>1.000000</td>\n",
       "      <td>10.000000</td>\n",
       "      <td>25261.000000</td>\n",
       "    </tr>\n",
       "  </tbody>\n",
       "</table>\n",
       "</div>"
      ],
      "text/plain": [
       "       adult        budget            id  popularity       revenue  \\\n",
       "count  644.0  6.440000e+02  6.440000e+02  644.000000  6.440000e+02   \n",
       "mean     0.0  2.076473e+07  6.194106e+04   10.655547  4.364547e+07   \n",
       "std      0.0  2.881461e+07  1.478798e+05   13.669967  9.762453e+07   \n",
       "min      0.0  0.000000e+00  1.600000e+01    0.600000  0.000000e+00   \n",
       "25%      0.0  4.750000e+05  9.288750e+03    3.254750  0.000000e+00   \n",
       "50%      0.0  7.400000e+06  1.477850e+04    8.182000  1.844592e+06   \n",
       "75%      0.0  3.000000e+07  4.499700e+04   12.993750  3.758817e+07   \n",
       "max      0.0  1.400000e+08  1.161712e+06  200.177000  9.764756e+08   \n",
       "\n",
       "          runtime       video  vote_average    vote_count  \n",
       "count  644.000000  644.000000    644.000000    644.000000  \n",
       "mean   104.099379    0.001553      5.694727   1047.723602  \n",
       "std     21.593719    0.039406      1.701703   2506.390347  \n",
       "min      0.000000    0.000000      0.000000      0.000000  \n",
       "25%     91.000000    0.000000      5.299500     27.000000  \n",
       "50%    100.000000    0.000000      6.050000    189.500000  \n",
       "75%    113.000000    0.000000      6.667250    858.500000  \n",
       "max    224.000000    1.000000     10.000000  25261.000000  "
      ]
     },
     "execution_count": 5,
     "metadata": {},
     "output_type": "execute_result"
    }
   ],
   "source": [
    "# Including only movies with budget and revenue greater than 0\n",
    "df_movie_values = df[(df['budget'] > 0) | (df['revenue'] > 0)]\n",
    "df_movie_values.describe()"
   ]
  },
  {
   "cell_type": "code",
   "execution_count": 6,
   "id": "5f00b95a",
   "metadata": {
    "scrolled": true
   },
   "outputs": [
    {
     "name": "stdout",
     "output_type": "stream",
     "text": [
      "Movies with budget and revenue values greater than 0: 644\n"
     ]
    }
   ],
   "source": [
    "# Print statement for new dataframe\n",
    "print(f\"Movies with budget and revenue values greater than 0: {len(df_movie_values)}\")"
   ]
  },
  {
   "cell_type": "markdown",
   "id": "268c74b9",
   "metadata": {},
   "source": [
    "- How many movies are there in each of the certification categories (G/PG/PG-13/R)?"
   ]
  },
  {
   "cell_type": "code",
   "execution_count": 18,
   "id": "a2b452e1",
   "metadata": {
    "scrolled": false
   },
   "outputs": [
    {
     "data": {
      "image/png": "[encoded data removed]",
      "text/plain": [
       "<Figure size 640x480 with 1 Axes>"
      ]
     },
     "metadata": {},
     "output_type": "display_data"
    }
   ],
   "source": [
    "cert_index= [\"R\", \"PG-13\", \"PG\", \"G\", \"NR\" ]\n",
    "\n",
    "\n",
    "# Create a count plot\n",
    "sns.countplot(data=df_movie_values, x='certification', order= cert_index)\n",
    "plt.xticks(rotation=45) \n",
    "plt.xlabel(\"Certification\") \n",
    "plt.ylabel(\"Number of Movies\")\n",
    "plt.title(\"Number of Movie Releases by Rating 2000-2001\")\n",
    "\n",
    "# Show the plot\n",
    "plt.show()"
   ]
  },
  {
   "cell_type": "markdown",
   "id": "a3cb4d58",
   "metadata": {},
   "source": [
    "- What is the average revenue per certification category?"
   ]
  },
  {
   "cell_type": "code",
   "execution_count": 20,
   "id": "4970d07f",
   "metadata": {},
   "outputs": [
    {
     "data": {
      "image/png": "[encoded data removed]",
      "text/plain": [
       "<Figure size 640x480 with 1 Axes>"
      ]
     },
     "metadata": {},
     "output_type": "display_data"
    }
   ],
   "source": [
    "# Plot figure displaying average revenue by certification category \n",
    "sns.barplot(data=df_movie_values, x='certification', y='revenue', ci=None, order = cert_index)\n",
    "plt.xticks(rotation=45)\n",
    "plt.xlabel(\"Certification\")\n",
    "plt.ylabel(\"Average Revenue\")\n",
    "plt.title(\"Average Revenue per Certification Category\")\n",
    "plt.show()"
   ]
  },
  {
   "cell_type": "markdown",
   "id": "d436511d",
   "metadata": {},
   "source": [
    "- What is the average budget per certification category?"
   ]
  },
  {
   "cell_type": "code",
   "execution_count": 22,
   "id": "29f92f13",
   "metadata": {},
   "outputs": [
    {
     "data": {
      "image/png": "[encoded data removed]",
      "text/plain": [
       "<Figure size 640x480 with 1 Axes>"
      ]
     },
     "metadata": {},
     "output_type": "display_data"
    }
   ],
   "source": [
    "# Plot figure displaying average revenue by certification category \n",
    "sns.barplot(data=df_movie_values, x='certification', y='budget', order= cert_index, ci=None)\n",
    "plt.xticks(rotation=45)\n",
    "plt.xlabel(\"Certification\")\n",
    "plt.ylabel(\"Average Budget\")\n",
    "plt.title(\"Average Budget per Certification Category\")\n",
    "plt.show()"
   ]
  },
  {
   "cell_type": "code",
   "execution_count": 23,
   "id": "0a933c8e",
   "metadata": {},
   "outputs": [
    {
     "name": "stdout",
     "output_type": "stream",
     "text": [
      "DataFrame saved as combined_years.csv in the 'data' folder.\n"
     ]
    }
   ],
   "source": [
    "# Save df as a csv\n",
    "# Specify the path where you want to save the CSV file\n",
    "csv_file_path = \"Data/API_combined_years.csv\"\n",
    "\n",
    "# Use the to_csv method to save the DataFrame to the specified path\n",
    "df.to_csv(csv_file_path, index=False)  # Set index=False to exclude writing the index to the CSV\n",
    "\n",
    "# Check if the file has been saved\n",
    "import os\n",
    "if os.path.exists(csv_file_path):\n",
    "    print(\"DataFrame saved as combined_years.csv in the 'data' folder.\")\n",
    "else:\n",
    "    print(\"Error: DataFrame was not saved.\")"
   ]
  }
 ],
 "metadata": {
  "kernelspec": {
   "display_name": "Python (dojo-env)",
   "language": "python",
   "name": "dojo-env"
  },
  "language_info": {
   "codemirror_mode": {
    "name": "ipython",
    "version": 3
   },
   "file_extension": ".py",
   "mimetype": "text/x-python",
   "name": "python",
   "nbconvert_exporter": "python",
   "pygments_lexer": "ipython3",
   "version": "3.9.15"
  },
  "toc": {
   "base_numbering": 1,
   "nav_menu": {},
   "number_sections": true,
   "sideBar": true,
   "skip_h1_title": false,
   "title_cell": "Table of Contents",
   "title_sidebar": "Contents",
   "toc_cell": false,
   "toc_position": {},
   "toc_section_display": true,
   "toc_window_display": false
  }
 },
 "nbformat": 4,
 "nbformat_minor": 5
}
