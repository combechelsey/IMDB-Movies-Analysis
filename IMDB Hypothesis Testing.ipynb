{
 "cells": [
  {
   "cell_type": "markdown",
   "id": "3b51e966",
   "metadata": {},
   "source": [
    "# Hypothesis Testing\n",
    "\n",
    "- Does the MPAA rating of a movie (G/PG/PG-13/R) affect how much revenue the movie generates?\n",
    "\n",
    "- Do some movie genres earn more revenue than others?\n",
    "\n",
    "- Does the month of release affect revenue?"
   ]
  },
  {
   "cell_type": "markdown",
   "id": "52aa1185",
   "metadata": {},
   "source": [
    "## Concanteate API Calls for years 2010 - 2019"
   ]
  },
  {
   "cell_type": "code",
   "execution_count": 1,
   "id": "03e5fa18",
   "metadata": {},
   "outputs": [],
   "source": [
    "import pandas as pd\n",
    "import numpy as np\n",
    "import matplotlib.pyplot as plt\n",
    "import seaborn as sns\n",
    "import matplotlib as mpl\n",
    "\n",
    "import os, time, json\n",
    "from scipy import stats\n",
    "\n",
    "import pymysql\n",
    "pymysql.install_as_MySQLdb()\n",
    "\n",
    "from sqlalchemy import create_engine\n",
    "from sqlalchemy_utils import create_database, database_exists\n",
    "\n",
    "import warnings\n",
    "warnings.filterwarnings('ignore')\n",
    "\n",
    "plt.style.use(['seaborn-muted','fivethirtyeight'])\n",
    "sns.set_context('talk')\n"
   ]
  },
  {
   "cell_type": "code",
   "execution_count": 2,
   "id": "bef8c648",
   "metadata": {
    "scrolled": true
   },
   "outputs": [
    {
     "data": {
      "text/plain": [
       "['.ipynb_checkpoints']"
      ]
     },
     "execution_count": 2,
     "metadata": {},
     "output_type": "execute_result"
    }
   ],
   "source": [
    "## Checking what data we already have in our Data folder using os.listdir\n",
    "import os\n",
    "FOLDER = 'Data/HYPOTHESIS TESTING - Years'\n",
    "file_list = sorted(os.listdir(FOLDER))\n",
    "file_list\n",
    "\n"
   ]
  },
  {
   "cell_type": "code",
   "execution_count": 3,
   "id": "b9c0fb9a",
   "metadata": {
    "scrolled": true
   },
   "outputs": [
    {
     "name": "stdout",
     "output_type": "stream",
     "text": [
      "<class 'pandas.core.frame.DataFrame'>\n",
      "RangeIndex: 2730 entries, 0 to 2729\n",
      "Data columns (total 26 columns):\n",
      " #   Column                 Non-Null Count  Dtype  \n",
      "---  ------                 --------------  -----  \n",
      " 0   imdb_id                2730 non-null   object \n",
      " 1   adult                  2729 non-null   float64\n",
      " 2   backdrop_path          1509 non-null   object \n",
      " 3   belongs_to_collection  193 non-null    object \n",
      " 4   budget                 2729 non-null   float64\n",
      " 5   genres                 2729 non-null   object \n",
      " 6   homepage               792 non-null    object \n",
      " 7   id                     2729 non-null   float64\n",
      " 8   original_language      2729 non-null   object \n",
      " 9   original_title         2729 non-null   object \n",
      " 10  overview               2653 non-null   object \n",
      " 11  popularity             2729 non-null   float64\n",
      " 12  poster_path            2362 non-null   object \n",
      " 13  production_companies   2729 non-null   object \n",
      " 14  production_countries   2729 non-null   object \n",
      " 15  release_date           2668 non-null   object \n",
      " 16  revenue                2729 non-null   float64\n",
      " 17  runtime                2729 non-null   float64\n",
      " 18  spoken_languages       2729 non-null   object \n",
      " 19  status                 2729 non-null   object \n",
      " 20  tagline                1070 non-null   object \n",
      " 21  title                  2729 non-null   object \n",
      " 22  video                  2729 non-null   float64\n",
      " 23  vote_average           2729 non-null   float64\n",
      " 24  vote_count             2729 non-null   float64\n",
      " 25  certification          729 non-null    object \n",
      "dtypes: float64(9), object(17)\n",
      "memory usage: 554.7+ KB\n"
     ]
    }
   ],
   "source": [
    "year2010 = r\"C:\\Users\\admin\\Documents\\GitHub\\IMDB-Movies-Analysis\\Data\\HYPOTHESIS TESTING - Yearsfinal_tmdb_data_2010.csv.gz\"\n",
    "\n",
    "# Import year 2010 dataset\n",
    "year2010 = pd.read_csv(year2010)\n",
    "\n",
    "year2010.info()"
   ]
  },
  {
   "cell_type": "code",
   "execution_count": 4,
   "id": "b45d5848",
   "metadata": {},
   "outputs": [],
   "source": [
    "# Save years 2011-2019\n",
    "\n",
    "year2011 = r\"C:\\Users\\admin\\Documents\\GitHub\\IMDB-Movies-Analysis\\Data\\HYPOTHESIS TESTING - Yearsfinal_tmdb_data_2011.csv.gz\"\n",
    "year2012 = r\"C:\\Users\\admin\\Documents\\GitHub\\IMDB-Movies-Analysis\\Data\\HYPOTHESIS TESTING - Yearsfinal_tmdb_data_2012.csv.gz\"\n",
    "year2013 = r\"C:\\Users\\admin\\Documents\\GitHub\\IMDB-Movies-Analysis\\Data\\HYPOTHESIS TESTING - Yearsfinal_tmdb_data_2013.csv.gz\"\n",
    "year2014 = r\"C:\\Users\\admin\\Documents\\GitHub\\IMDB-Movies-Analysis\\Data\\HYPOTHESIS TESTING - Yearsfinal_tmdb_data_2014.csv.gz\"\n",
    "year2015 = r\"C:\\Users\\admin\\Documents\\GitHub\\IMDB-Movies-Analysis\\Data\\HYPOTHESIS TESTING - Yearsfinal_tmdb_data_2015.csv.gz\"\n",
    "year2016 = r\"C:\\Users\\admin\\Documents\\GitHub\\IMDB-Movies-Analysis\\Data\\HYPOTHESIS TESTING - Yearsfinal_tmdb_data_2016.csv.gz\"\n",
    "year2017 = r\"C:\\Users\\admin\\Documents\\GitHub\\IMDB-Movies-Analysis\\Data\\HYPOTHESIS TESTING - Yearsfinal_tmdb_data_2017.csv.gz\"\n",
    "year2018 = r\"C:\\Users\\admin\\Documents\\GitHub\\IMDB-Movies-Analysis\\Data\\HYPOTHESIS TESTING - Yearsfinal_tmdb_data_2018.csv.gz\"\n",
    "year2019 = r\"C:\\Users\\admin\\Documents\\GitHub\\IMDB-Movies-Analysis\\Data\\HYPOTHESIS TESTING - Yearsfinal_tmdb_data_2019.csv.gz\"\n"
   ]
  },
  {
   "cell_type": "code",
   "execution_count": 5,
   "id": "8400d733",
   "metadata": {},
   "outputs": [],
   "source": [
    "# Import year 2011-2019 datasets\n",
    "year2011 = pd.read_csv(year2011)\n",
    "year2012 = pd.read_csv(year2012)\n",
    "year2013 = pd.read_csv(year2013)\n",
    "year2014 = pd.read_csv(year2014)\n",
    "year2015 = pd.read_csv(year2015)\n",
    "year2016 = pd.read_csv(year2016)\n",
    "year2017 = pd.read_csv(year2017)\n",
    "year2018 = pd.read_csv(year2018)\n",
    "year2019 = pd.read_csv(year2019)"
   ]
  },
  {
   "cell_type": "code",
   "execution_count": 6,
   "id": "a893dfe0",
   "metadata": {
    "scrolled": false
   },
   "outputs": [
    {
     "name": "stdout",
     "output_type": "stream",
     "text": [
      "<class 'pandas.core.frame.DataFrame'>\n",
      "Index: 38409 entries, 0 to 4905\n",
      "Data columns (total 26 columns):\n",
      " #   Column                 Non-Null Count  Dtype  \n",
      "---  ------                 --------------  -----  \n",
      " 0   imdb_id                38409 non-null  object \n",
      " 1   adult                  38399 non-null  float64\n",
      " 2   backdrop_path          25695 non-null  object \n",
      " 3   belongs_to_collection  2556 non-null   object \n",
      " 4   budget                 38399 non-null  float64\n",
      " 5   genres                 38399 non-null  object \n",
      " 6   homepage               10093 non-null  object \n",
      " 7   id                     38399 non-null  float64\n",
      " 8   original_language      38399 non-null  object \n",
      " 9   original_title         38399 non-null  object \n",
      " 10  overview               37605 non-null  object \n",
      " 11  popularity             38399 non-null  float64\n",
      " 12  poster_path            35722 non-null  object \n",
      " 13  production_companies   38399 non-null  object \n",
      " 14  production_countries   38399 non-null  object \n",
      " 15  release_date           37812 non-null  object \n",
      " 16  revenue                38399 non-null  float64\n",
      " 17  runtime                38399 non-null  float64\n",
      " 18  spoken_languages       38399 non-null  object \n",
      " 19  status                 38399 non-null  object \n",
      " 20  tagline                14086 non-null  object \n",
      " 21  title                  38399 non-null  object \n",
      " 22  video                  38399 non-null  float64\n",
      " 23  vote_average           38399 non-null  float64\n",
      " 24  vote_count             38399 non-null  float64\n",
      " 25  certification          8430 non-null   object \n",
      "dtypes: float64(9), object(17)\n",
      "memory usage: 7.9+ MB\n"
     ]
    }
   ],
   "source": [
    "# Combine years \n",
    "df = pd.concat([year2010, year2011, year2012, year2013, year2014, year2015, year2016, year2017, year2018, year2019])\n",
    "\n",
    "df.info()"
   ]
  },
  {
   "cell_type": "markdown",
   "id": "249ad7bd",
   "metadata": {},
   "source": [
    "Data appears to have loaded correctly!"
   ]
  },
  {
   "cell_type": "code",
   "execution_count": 7,
   "id": "3a40a646",
   "metadata": {
    "scrolled": true
   },
   "outputs": [
    {
     "data": {
      "text/html": [
       "<div>\n",
       "<style scoped>\n",
       "    .dataframe tbody tr th:only-of-type {\n",
       "        vertical-align: middle;\n",
       "    }\n",
       "\n",
       "    .dataframe tbody tr th {\n",
       "        vertical-align: top;\n",
       "    }\n",
       "\n",
       "    .dataframe thead th {\n",
       "        text-align: right;\n",
       "    }\n",
       "</style>\n",
       "<table border=\"1\" class=\"dataframe\">\n",
       "  <thead>\n",
       "    <tr style=\"text-align: right;\">\n",
       "      <th></th>\n",
       "      <th>adult</th>\n",
       "      <th>budget</th>\n",
       "      <th>id</th>\n",
       "      <th>popularity</th>\n",
       "      <th>revenue</th>\n",
       "      <th>runtime</th>\n",
       "      <th>video</th>\n",
       "      <th>vote_average</th>\n",
       "      <th>vote_count</th>\n",
       "    </tr>\n",
       "  </thead>\n",
       "  <tbody>\n",
       "    <tr>\n",
       "      <th>count</th>\n",
       "      <td>8420.000000</td>\n",
       "      <td>8.420000e+03</td>\n",
       "      <td>8.420000e+03</td>\n",
       "      <td>8420.000000</td>\n",
       "      <td>8.420000e+03</td>\n",
       "      <td>8420.000000</td>\n",
       "      <td>8420.000000</td>\n",
       "      <td>8420.000000</td>\n",
       "      <td>8420.000000</td>\n",
       "    </tr>\n",
       "    <tr>\n",
       "      <th>mean</th>\n",
       "      <td>0.000831</td>\n",
       "      <td>1.188425e+07</td>\n",
       "      <td>3.325369e+05</td>\n",
       "      <td>11.701959</td>\n",
       "      <td>3.524459e+07</td>\n",
       "      <td>100.318290</td>\n",
       "      <td>0.007007</td>\n",
       "      <td>5.392083</td>\n",
       "      <td>884.242280</td>\n",
       "    </tr>\n",
       "    <tr>\n",
       "      <th>std</th>\n",
       "      <td>0.028823</td>\n",
       "      <td>3.134704e+07</td>\n",
       "      <td>2.089246e+05</td>\n",
       "      <td>16.586334</td>\n",
       "      <td>1.313355e+08</td>\n",
       "      <td>26.869998</td>\n",
       "      <td>0.083420</td>\n",
       "      <td>2.202804</td>\n",
       "      <td>2488.124208</td>\n",
       "    </tr>\n",
       "    <tr>\n",
       "      <th>min</th>\n",
       "      <td>0.000000</td>\n",
       "      <td>0.000000e+00</td>\n",
       "      <td>1.890000e+02</td>\n",
       "      <td>0.600000</td>\n",
       "      <td>0.000000e+00</td>\n",
       "      <td>0.000000</td>\n",
       "      <td>0.000000</td>\n",
       "      <td>0.000000</td>\n",
       "      <td>0.000000</td>\n",
       "    </tr>\n",
       "    <tr>\n",
       "      <th>25%</th>\n",
       "      <td>0.000000</td>\n",
       "      <td>1.000000e+03</td>\n",
       "      <td>1.500190e+05</td>\n",
       "      <td>1.754750</td>\n",
       "      <td>0.000000e+00</td>\n",
       "      <td>89.000000</td>\n",
       "      <td>0.000000</td>\n",
       "      <td>4.800000</td>\n",
       "      <td>5.000000</td>\n",
       "    </tr>\n",
       "    <tr>\n",
       "      <th>50%</th>\n",
       "      <td>0.000000</td>\n",
       "      <td>8.000000e+05</td>\n",
       "      <td>3.264870e+05</td>\n",
       "      <td>6.997000</td>\n",
       "      <td>2.204700e+04</td>\n",
       "      <td>98.000000</td>\n",
       "      <td>0.000000</td>\n",
       "      <td>6.000000</td>\n",
       "      <td>55.000000</td>\n",
       "    </tr>\n",
       "    <tr>\n",
       "      <th>75%</th>\n",
       "      <td>0.000000</td>\n",
       "      <td>8.000000e+06</td>\n",
       "      <td>4.672568e+05</td>\n",
       "      <td>15.634000</td>\n",
       "      <td>8.108007e+06</td>\n",
       "      <td>111.000000</td>\n",
       "      <td>0.000000</td>\n",
       "      <td>6.777000</td>\n",
       "      <td>487.250000</td>\n",
       "    </tr>\n",
       "    <tr>\n",
       "      <th>max</th>\n",
       "      <td>1.000000</td>\n",
       "      <td>3.790000e+08</td>\n",
       "      <td>1.177535e+06</td>\n",
       "      <td>612.272000</td>\n",
       "      <td>2.800000e+09</td>\n",
       "      <td>1265.000000</td>\n",
       "      <td>1.000000</td>\n",
       "      <td>10.000000</td>\n",
       "      <td>34430.000000</td>\n",
       "    </tr>\n",
       "  </tbody>\n",
       "</table>\n",
       "</div>"
      ],
      "text/plain": [
       "             adult        budget            id   popularity       revenue  \\\n",
       "count  8420.000000  8.420000e+03  8.420000e+03  8420.000000  8.420000e+03   \n",
       "mean      0.000831  1.188425e+07  3.325369e+05    11.701959  3.524459e+07   \n",
       "std       0.028823  3.134704e+07  2.089246e+05    16.586334  1.313355e+08   \n",
       "min       0.000000  0.000000e+00  1.890000e+02     0.600000  0.000000e+00   \n",
       "25%       0.000000  1.000000e+03  1.500190e+05     1.754750  0.000000e+00   \n",
       "50%       0.000000  8.000000e+05  3.264870e+05     6.997000  2.204700e+04   \n",
       "75%       0.000000  8.000000e+06  4.672568e+05    15.634000  8.108007e+06   \n",
       "max       1.000000  3.790000e+08  1.177535e+06   612.272000  2.800000e+09   \n",
       "\n",
       "           runtime        video  vote_average    vote_count  \n",
       "count  8420.000000  8420.000000   8420.000000   8420.000000  \n",
       "mean    100.318290     0.007007      5.392083    884.242280  \n",
       "std      26.869998     0.083420      2.202804   2488.124208  \n",
       "min       0.000000     0.000000      0.000000      0.000000  \n",
       "25%      89.000000     0.000000      4.800000      5.000000  \n",
       "50%      98.000000     0.000000      6.000000     55.000000  \n",
       "75%     111.000000     0.000000      6.777000    487.250000  \n",
       "max    1265.000000     1.000000     10.000000  34430.000000  "
      ]
     },
     "execution_count": 7,
     "metadata": {},
     "output_type": "execute_result"
    }
   ],
   "source": [
    "# Including only movies with budget and revenue greater than 0\n",
    "df_movie_values = df[(df['budget'] > 0) | (df['revenue'] > 0)]\n",
    "df_movie_values.describe()"
   ]
  },
  {
   "cell_type": "markdown",
   "id": "9b122518",
   "metadata": {},
   "source": [
    "## Exploratory Data Analysis"
   ]
  },
  {
   "cell_type": "code",
   "execution_count": 8,
   "id": "5f9bf158",
   "metadata": {},
   "outputs": [
    {
     "name": "stdout",
     "output_type": "stream",
     "text": [
      "Movies with budget and revenue values greater than 0: 8420\n"
     ]
    }
   ],
   "source": [
    "# Print statement for new dataframe\n",
    "print(f\"Movies with budget and revenue values greater than 0: {len(df_movie_values)}\")"
   ]
  },
  {
   "cell_type": "markdown",
   "id": "6530a3a2",
   "metadata": {},
   "source": [
    "**- There are 8420 movies with budget and revenue values greater than 0**"
   ]
  },
  {
   "cell_type": "code",
   "execution_count": 9,
   "id": "e08a2a7c",
   "metadata": {},
   "outputs": [
    {
     "data": {
      "image/png": "[encoded data removed]",
      "text/plain": [
       "<Figure size 640x480 with 1 Axes>"
      ]
     },
     "metadata": {},
     "output_type": "display_data"
    }
   ],
   "source": [
    "cert_index= [\"R\", \"PG-13\", \"PG\", \"G\", \"NR\" ]\n",
    "\n",
    "\n",
    "# Create a count plot\n",
    "sns.countplot(data=df_movie_values, x='certification', order= cert_index)\n",
    "plt.xticks(rotation=45) \n",
    "plt.xlabel(\"Certification\") \n",
    "plt.ylabel(\"Number of Movies\")\n",
    "plt.title(\"Number of Movie Releases by Rating 2000-2001\")\n",
    "\n",
    "# Show the plot\n",
    "plt.show()"
   ]
  },
  {
   "cell_type": "code",
   "execution_count": 10,
   "id": "aede029c",
   "metadata": {},
   "outputs": [
    {
     "data": {
      "image/png": "[encoded data removed]",
      "text/plain": [
       "<Figure size 640x480 with 1 Axes>"
      ]
     },
     "metadata": {},
     "output_type": "display_data"
    }
   ],
   "source": [
    "# Plot figure displaying average revenue by certification category \n",
    "sns.barplot(data=df_movie_values, x='certification', y='revenue', ci=None, order = cert_index)\n",
    "plt.xticks(rotation=45)\n",
    "plt.xlabel(\"Certification\")\n",
    "plt.ylabel(\"Average Revenue\")\n",
    "plt.title(\"Average Revenue per Certification Category\")\n",
    "plt.show()"
   ]
  },
  {
   "cell_type": "code",
   "execution_count": 11,
   "id": "befd9ad3",
   "metadata": {},
   "outputs": [
    {
     "data": {
      "image/png": "[encoded data removed]",
      "text/plain": [
       "<Figure size 640x480 with 1 Axes>"
      ]
     },
     "metadata": {},
     "output_type": "display_data"
    }
   ],
   "source": [
    "# Plot figure displaying average revenue by certification category \n",
    "sns.barplot(data=df_movie_values, x='certification', y='budget', order= cert_index, ci=None)\n",
    "plt.xticks(rotation=45)\n",
    "plt.xlabel(\"Certification\")\n",
    "plt.ylabel(\"Average Budget\")\n",
    "plt.title(\"Average Budget per Certification Category\")\n",
    "plt.show()"
   ]
  },
  {
   "cell_type": "code",
   "execution_count": 12,
   "id": "054641f0",
   "metadata": {
    "scrolled": true
   },
   "outputs": [
    {
     "name": "stdout",
     "output_type": "stream",
     "text": [
      "DataFrame saved as combined_years.csv in the 'data' folder.\n"
     ]
    }
   ],
   "source": [
    "# Save df as a csv\n",
    "# Specify the path where you want to save the CSV file\n",
    "csv_file_path = \"Data/API_years2010to2019.csv\"\n",
    "\n",
    "# Use the to_csv method to save the DataFrame to the specified path\n",
    "df.to_csv(csv_file_path, index=False)  # Set index=False to exclude writing the index to the CSV\n",
    "\n",
    "# Check if the file has been saved\n",
    "import os\n",
    "if os.path.exists(csv_file_path):\n",
    "    print(\"DataFrame saved as combined_years.csv in the 'data' folder.\")\n",
    "else:\n",
    "    print(\"Error: DataFrame was not saved.\")"
   ]
  },
  {
   "cell_type": "markdown",
   "id": "ff2a1a3b",
   "metadata": {},
   "source": [
    "## Data Cleaning"
   ]
  },
  {
   "cell_type": "code",
   "execution_count": 13,
   "id": "e4f730f5",
   "metadata": {},
   "outputs": [],
   "source": [
    "df2 = df.copy()"
   ]
  },
  {
   "cell_type": "code",
   "execution_count": 14,
   "id": "6227cd70",
   "metadata": {
    "scrolled": true
   },
   "outputs": [
    {
     "name": "stdout",
     "output_type": "stream",
     "text": [
      "<class 'pandas.core.frame.DataFrame'>\n",
      "Index: 38409 entries, 0 to 4905\n",
      "Data columns (total 26 columns):\n",
      " #   Column                 Non-Null Count  Dtype  \n",
      "---  ------                 --------------  -----  \n",
      " 0   imdb_id                38409 non-null  object \n",
      " 1   adult                  38399 non-null  float64\n",
      " 2   backdrop_path          25695 non-null  object \n",
      " 3   belongs_to_collection  2556 non-null   object \n",
      " 4   budget                 38399 non-null  float64\n",
      " 5   genres                 38399 non-null  object \n",
      " 6   homepage               10093 non-null  object \n",
      " 7   id                     38399 non-null  float64\n",
      " 8   original_language      38399 non-null  object \n",
      " 9   original_title         38399 non-null  object \n",
      " 10  overview               37605 non-null  object \n",
      " 11  popularity             38399 non-null  float64\n",
      " 12  poster_path            35722 non-null  object \n",
      " 13  production_companies   38399 non-null  object \n",
      " 14  production_countries   38399 non-null  object \n",
      " 15  release_date           37812 non-null  object \n",
      " 16  revenue                38399 non-null  float64\n",
      " 17  runtime                38399 non-null  float64\n",
      " 18  spoken_languages       38399 non-null  object \n",
      " 19  status                 38399 non-null  object \n",
      " 20  tagline                14086 non-null  object \n",
      " 21  title                  38399 non-null  object \n",
      " 22  video                  38399 non-null  float64\n",
      " 23  vote_average           38399 non-null  float64\n",
      " 24  vote_count             38399 non-null  float64\n",
      " 25  certification          8430 non-null   object \n",
      "dtypes: float64(9), object(17)\n",
      "memory usage: 7.9+ MB\n"
     ]
    }
   ],
   "source": [
    "df.info()"
   ]
  },
  {
   "cell_type": "code",
   "execution_count": 15,
   "id": "dfee9862",
   "metadata": {},
   "outputs": [
    {
     "name": "stdout",
     "output_type": "stream",
     "text": [
      "<class 'pandas.core.frame.DataFrame'>\n",
      "Index: 38409 entries, 0 to 4905\n",
      "Data columns (total 4 columns):\n",
      " #   Column         Non-Null Count  Dtype  \n",
      "---  ------         --------------  -----  \n",
      " 0   imdb_id        38409 non-null  object \n",
      " 1   budget         38399 non-null  float64\n",
      " 2   revenue        38399 non-null  float64\n",
      " 3   certification  8430 non-null   object \n",
      "dtypes: float64(2), object(2)\n",
      "memory usage: 1.5+ MB\n"
     ]
    }
   ],
   "source": [
    "# FIlter to include only imdb_id, budget, revenue, and certification\n",
    "df = df[['imdb_id', 'budget', 'revenue', 'certification']]\n",
    "df.info()"
   ]
  },
  {
   "cell_type": "code",
   "execution_count": 16,
   "id": "11be2b99",
   "metadata": {
    "scrolled": true
   },
   "outputs": [
    {
     "data": {
      "text/plain": [
       "9"
      ]
     },
     "execution_count": 16,
     "metadata": {},
     "output_type": "execute_result"
    }
   ],
   "source": [
    "# Check for duplicates\n",
    "df.duplicated().sum()"
   ]
  },
  {
   "cell_type": "code",
   "execution_count": 17,
   "id": "b0102ae6",
   "metadata": {
    "scrolled": true
   },
   "outputs": [],
   "source": [
    "# Remove duplicates\n",
    "df = df.drop_duplicates()"
   ]
  },
  {
   "cell_type": "code",
   "execution_count": 18,
   "id": "cb329ddf",
   "metadata": {},
   "outputs": [
    {
     "name": "stdout",
     "output_type": "stream",
     "text": [
      "0\n"
     ]
    }
   ],
   "source": [
    "# Check that duplicates were dropped\n",
    "duplicates_count = df.duplicated().sum()\n",
    "\n",
    "print(duplicates_count)"
   ]
  },
  {
   "cell_type": "code",
   "execution_count": 19,
   "id": "b400df9e",
   "metadata": {
    "scrolled": true
   },
   "outputs": [
    {
     "data": {
      "text/plain": [
       "imdb_id              0\n",
       "budget               1\n",
       "revenue              1\n",
       "certification    29970\n",
       "dtype: int64"
      ]
     },
     "execution_count": 19,
     "metadata": {},
     "output_type": "execute_result"
    }
   ],
   "source": [
    "# View null value counts\n",
    "df.isna().sum()"
   ]
  },
  {
   "cell_type": "code",
   "execution_count": 20,
   "id": "c471740d",
   "metadata": {},
   "outputs": [],
   "source": [
    "# Drop null values\n",
    "df = df.dropna()"
   ]
  },
  {
   "cell_type": "code",
   "execution_count": 21,
   "id": "775c5024",
   "metadata": {},
   "outputs": [
    {
     "data": {
      "text/plain": [
       "imdb_id          0\n",
       "budget           0\n",
       "revenue          0\n",
       "certification    0\n",
       "dtype: int64"
      ]
     },
     "execution_count": 21,
     "metadata": {},
     "output_type": "execute_result"
    }
   ],
   "source": [
    "# Verify that null values were dropped\n",
    "df.isna().sum()"
   ]
  },
  {
   "cell_type": "code",
   "execution_count": 22,
   "id": "ce0c39c5",
   "metadata": {
    "scrolled": false
   },
   "outputs": [
    {
     "data": {
      "text/html": [
       "<div>\n",
       "<style scoped>\n",
       "    .dataframe tbody tr th:only-of-type {\n",
       "        vertical-align: middle;\n",
       "    }\n",
       "\n",
       "    .dataframe tbody tr th {\n",
       "        vertical-align: top;\n",
       "    }\n",
       "\n",
       "    .dataframe thead th {\n",
       "        text-align: right;\n",
       "    }\n",
       "</style>\n",
       "<table border=\"1\" class=\"dataframe\">\n",
       "  <thead>\n",
       "    <tr style=\"text-align: right;\">\n",
       "      <th></th>\n",
       "      <th>tconst</th>\n",
       "      <th>budget</th>\n",
       "      <th>revenue</th>\n",
       "      <th>certification</th>\n",
       "    </tr>\n",
       "  </thead>\n",
       "  <tbody>\n",
       "    <tr>\n",
       "      <th>2</th>\n",
       "      <td>tt0326965</td>\n",
       "      <td>0.0</td>\n",
       "      <td>0.0</td>\n",
       "      <td>PG-13</td>\n",
       "    </tr>\n",
       "    <tr>\n",
       "      <th>5</th>\n",
       "      <td>tt0398286</td>\n",
       "      <td>260000000.0</td>\n",
       "      <td>592461732.0</td>\n",
       "      <td>PG</td>\n",
       "    </tr>\n",
       "    <tr>\n",
       "      <th>7</th>\n",
       "      <td>tt0411951</td>\n",
       "      <td>30000000.0</td>\n",
       "      <td>967000.0</td>\n",
       "      <td>R</td>\n",
       "    </tr>\n",
       "    <tr>\n",
       "      <th>8</th>\n",
       "      <td>tt0419692</td>\n",
       "      <td>0.0</td>\n",
       "      <td>0.0</td>\n",
       "      <td>NR</td>\n",
       "    </tr>\n",
       "    <tr>\n",
       "      <th>9</th>\n",
       "      <td>tt0423474</td>\n",
       "      <td>0.0</td>\n",
       "      <td>0.0</td>\n",
       "      <td>R</td>\n",
       "    </tr>\n",
       "  </tbody>\n",
       "</table>\n",
       "</div>"
      ],
      "text/plain": [
       "      tconst       budget      revenue certification\n",
       "2  tt0326965          0.0          0.0         PG-13\n",
       "5  tt0398286  260000000.0  592461732.0            PG\n",
       "7  tt0411951   30000000.0     967000.0             R\n",
       "8  tt0419692          0.0          0.0            NR\n",
       "9  tt0423474          0.0          0.0             R"
      ]
     },
     "execution_count": 22,
     "metadata": {},
     "output_type": "execute_result"
    }
   ],
   "source": [
    "# Rename imdb_id as 'tconst' to match basics\n",
    "df.rename(columns = {'imdb_id': 'tconst'}, inplace = True)\n",
    "df.head()"
   ]
  },
  {
   "cell_type": "code",
   "execution_count": 23,
   "id": "df97bb02",
   "metadata": {
    "scrolled": true
   },
   "outputs": [
    {
     "data": {
      "text/html": [
       "<div>\n",
       "<style scoped>\n",
       "    .dataframe tbody tr th:only-of-type {\n",
       "        vertical-align: middle;\n",
       "    }\n",
       "\n",
       "    .dataframe tbody tr th {\n",
       "        vertical-align: top;\n",
       "    }\n",
       "\n",
       "    .dataframe thead th {\n",
       "        text-align: right;\n",
       "    }\n",
       "</style>\n",
       "<table border=\"1\" class=\"dataframe\">\n",
       "  <thead>\n",
       "    <tr style=\"text-align: right;\">\n",
       "      <th></th>\n",
       "      <th>tconst</th>\n",
       "      <th>titleType</th>\n",
       "      <th>primaryTitle</th>\n",
       "      <th>originalTitle</th>\n",
       "      <th>isAdult</th>\n",
       "      <th>startYear</th>\n",
       "      <th>endYear</th>\n",
       "      <th>runtimeMinutes</th>\n",
       "      <th>genres</th>\n",
       "    </tr>\n",
       "  </thead>\n",
       "  <tbody>\n",
       "    <tr>\n",
       "      <th>0</th>\n",
       "      <td>tt0035423</td>\n",
       "      <td>movie</td>\n",
       "      <td>Kate &amp; Leopold</td>\n",
       "      <td>Kate &amp; Leopold</td>\n",
       "      <td>0</td>\n",
       "      <td>2001.0</td>\n",
       "      <td>NaN</td>\n",
       "      <td>118</td>\n",
       "      <td>Comedy,Fantasy,Romance</td>\n",
       "    </tr>\n",
       "    <tr>\n",
       "      <th>1</th>\n",
       "      <td>tt0062336</td>\n",
       "      <td>movie</td>\n",
       "      <td>The Tango of the Widower and Its Distorting Mi...</td>\n",
       "      <td>El tango del viudo y su espejo deformante</td>\n",
       "      <td>0</td>\n",
       "      <td>2020.0</td>\n",
       "      <td>NaN</td>\n",
       "      <td>70</td>\n",
       "      <td>Drama</td>\n",
       "    </tr>\n",
       "    <tr>\n",
       "      <th>2</th>\n",
       "      <td>tt0068865</td>\n",
       "      <td>movie</td>\n",
       "      <td>Lives of Performers</td>\n",
       "      <td>Lives of Performers</td>\n",
       "      <td>0</td>\n",
       "      <td>2016.0</td>\n",
       "      <td>NaN</td>\n",
       "      <td>90</td>\n",
       "      <td>Drama</td>\n",
       "    </tr>\n",
       "    <tr>\n",
       "      <th>3</th>\n",
       "      <td>tt0069049</td>\n",
       "      <td>movie</td>\n",
       "      <td>The Other Side of the Wind</td>\n",
       "      <td>The Other Side of the Wind</td>\n",
       "      <td>0</td>\n",
       "      <td>2018.0</td>\n",
       "      <td>NaN</td>\n",
       "      <td>122</td>\n",
       "      <td>Drama</td>\n",
       "    </tr>\n",
       "    <tr>\n",
       "      <th>4</th>\n",
       "      <td>tt0088751</td>\n",
       "      <td>movie</td>\n",
       "      <td>The Naked Monster</td>\n",
       "      <td>The Naked Monster</td>\n",
       "      <td>0</td>\n",
       "      <td>2005.0</td>\n",
       "      <td>NaN</td>\n",
       "      <td>100</td>\n",
       "      <td>Comedy,Horror,Sci-Fi</td>\n",
       "    </tr>\n",
       "  </tbody>\n",
       "</table>\n",
       "</div>"
      ],
      "text/plain": [
       "      tconst titleType                                       primaryTitle  \\\n",
       "0  tt0035423     movie                                     Kate & Leopold   \n",
       "1  tt0062336     movie  The Tango of the Widower and Its Distorting Mi...   \n",
       "2  tt0068865     movie                                Lives of Performers   \n",
       "3  tt0069049     movie                         The Other Side of the Wind   \n",
       "4  tt0088751     movie                                  The Naked Monster   \n",
       "\n",
       "                               originalTitle  isAdult  startYear  endYear  \\\n",
       "0                             Kate & Leopold        0     2001.0      NaN   \n",
       "1  El tango del viudo y su espejo deformante        0     2020.0      NaN   \n",
       "2                        Lives of Performers        0     2016.0      NaN   \n",
       "3                 The Other Side of the Wind        0     2018.0      NaN   \n",
       "4                          The Naked Monster        0     2005.0      NaN   \n",
       "\n",
       "   runtimeMinutes                  genres  \n",
       "0             118  Comedy,Fantasy,Romance  \n",
       "1              70                   Drama  \n",
       "2              90                   Drama  \n",
       "3             122                   Drama  \n",
       "4             100    Comedy,Horror,Sci-Fi  "
      ]
     },
     "execution_count": 23,
     "metadata": {},
     "output_type": "execute_result"
    }
   ],
   "source": [
    "# Load Title Basics data\n",
    "\n",
    "basics = pd.read_csv(r\"C:\\Users\\admin\\Documents\\GitHub\\IMDB-Movies-Analysis\\Data\\basics_compressed_cleaned.csv.gz\", low_memory = False)\n",
    "basics.head()"
   ]
  },
  {
   "cell_type": "code",
   "execution_count": 24,
   "id": "23ee4807",
   "metadata": {},
   "outputs": [
    {
     "data": {
      "text/html": [
       "<div>\n",
       "<style scoped>\n",
       "    .dataframe tbody tr th:only-of-type {\n",
       "        vertical-align: middle;\n",
       "    }\n",
       "\n",
       "    .dataframe tbody tr th {\n",
       "        vertical-align: top;\n",
       "    }\n",
       "\n",
       "    .dataframe thead th {\n",
       "        text-align: right;\n",
       "    }\n",
       "</style>\n",
       "<table border=\"1\" class=\"dataframe\">\n",
       "  <thead>\n",
       "    <tr style=\"text-align: right;\">\n",
       "      <th></th>\n",
       "      <th>tconst</th>\n",
       "      <th>primaryTitle</th>\n",
       "      <th>originalTitle</th>\n",
       "      <th>startYear</th>\n",
       "      <th>endYear</th>\n",
       "      <th>runtimeMinutes</th>\n",
       "      <th>genres</th>\n",
       "    </tr>\n",
       "  </thead>\n",
       "  <tbody>\n",
       "    <tr>\n",
       "      <th>0</th>\n",
       "      <td>tt0035423</td>\n",
       "      <td>Kate &amp; Leopold</td>\n",
       "      <td>Kate &amp; Leopold</td>\n",
       "      <td>2001.0</td>\n",
       "      <td>NaN</td>\n",
       "      <td>118</td>\n",
       "      <td>Comedy,Fantasy,Romance</td>\n",
       "    </tr>\n",
       "    <tr>\n",
       "      <th>1</th>\n",
       "      <td>tt0062336</td>\n",
       "      <td>The Tango of the Widower and Its Distorting Mi...</td>\n",
       "      <td>El tango del viudo y su espejo deformante</td>\n",
       "      <td>2020.0</td>\n",
       "      <td>NaN</td>\n",
       "      <td>70</td>\n",
       "      <td>Drama</td>\n",
       "    </tr>\n",
       "    <tr>\n",
       "      <th>2</th>\n",
       "      <td>tt0068865</td>\n",
       "      <td>Lives of Performers</td>\n",
       "      <td>Lives of Performers</td>\n",
       "      <td>2016.0</td>\n",
       "      <td>NaN</td>\n",
       "      <td>90</td>\n",
       "      <td>Drama</td>\n",
       "    </tr>\n",
       "    <tr>\n",
       "      <th>3</th>\n",
       "      <td>tt0069049</td>\n",
       "      <td>The Other Side of the Wind</td>\n",
       "      <td>The Other Side of the Wind</td>\n",
       "      <td>2018.0</td>\n",
       "      <td>NaN</td>\n",
       "      <td>122</td>\n",
       "      <td>Drama</td>\n",
       "    </tr>\n",
       "    <tr>\n",
       "      <th>4</th>\n",
       "      <td>tt0088751</td>\n",
       "      <td>The Naked Monster</td>\n",
       "      <td>The Naked Monster</td>\n",
       "      <td>2005.0</td>\n",
       "      <td>NaN</td>\n",
       "      <td>100</td>\n",
       "      <td>Comedy,Horror,Sci-Fi</td>\n",
       "    </tr>\n",
       "  </tbody>\n",
       "</table>\n",
       "</div>"
      ],
      "text/plain": [
       "      tconst                                       primaryTitle  \\\n",
       "0  tt0035423                                     Kate & Leopold   \n",
       "1  tt0062336  The Tango of the Widower and Its Distorting Mi...   \n",
       "2  tt0068865                                Lives of Performers   \n",
       "3  tt0069049                         The Other Side of the Wind   \n",
       "4  tt0088751                                  The Naked Monster   \n",
       "\n",
       "                               originalTitle  startYear  endYear  \\\n",
       "0                             Kate & Leopold     2001.0      NaN   \n",
       "1  El tango del viudo y su espejo deformante     2020.0      NaN   \n",
       "2                        Lives of Performers     2016.0      NaN   \n",
       "3                 The Other Side of the Wind     2018.0      NaN   \n",
       "4                          The Naked Monster     2005.0      NaN   \n",
       "\n",
       "   runtimeMinutes                  genres  \n",
       "0             118  Comedy,Fantasy,Romance  \n",
       "1              70                   Drama  \n",
       "2              90                   Drama  \n",
       "3             122                   Drama  \n",
       "4             100    Comedy,Horror,Sci-Fi  "
      ]
     },
     "execution_count": 24,
     "metadata": {},
     "output_type": "execute_result"
    }
   ],
   "source": [
    "# Drop a couple unnecessary columns\n",
    "basics = basics.drop(columns = ['isAdult', 'titleType'])\n",
    "basics.head()"
   ]
  },
  {
   "cell_type": "code",
   "execution_count": 25,
   "id": "4d1db73e",
   "metadata": {},
   "outputs": [
    {
     "data": {
      "text/html": [
       "<div>\n",
       "<style scoped>\n",
       "    .dataframe tbody tr th:only-of-type {\n",
       "        vertical-align: middle;\n",
       "    }\n",
       "\n",
       "    .dataframe tbody tr th {\n",
       "        vertical-align: top;\n",
       "    }\n",
       "\n",
       "    .dataframe thead th {\n",
       "        text-align: right;\n",
       "    }\n",
       "</style>\n",
       "<table border=\"1\" class=\"dataframe\">\n",
       "  <thead>\n",
       "    <tr style=\"text-align: right;\">\n",
       "      <th></th>\n",
       "      <th>tconst</th>\n",
       "      <th>budget</th>\n",
       "      <th>revenue</th>\n",
       "      <th>certification</th>\n",
       "      <th>primaryTitle</th>\n",
       "      <th>originalTitle</th>\n",
       "      <th>startYear</th>\n",
       "      <th>endYear</th>\n",
       "      <th>runtimeMinutes</th>\n",
       "      <th>genres</th>\n",
       "    </tr>\n",
       "  </thead>\n",
       "  <tbody>\n",
       "    <tr>\n",
       "      <th>0</th>\n",
       "      <td>tt0035423</td>\n",
       "      <td>NaN</td>\n",
       "      <td>NaN</td>\n",
       "      <td>NaN</td>\n",
       "      <td>Kate &amp; Leopold</td>\n",
       "      <td>Kate &amp; Leopold</td>\n",
       "      <td>2001.0</td>\n",
       "      <td>NaN</td>\n",
       "      <td>118</td>\n",
       "      <td>Comedy,Fantasy,Romance</td>\n",
       "    </tr>\n",
       "    <tr>\n",
       "      <th>1</th>\n",
       "      <td>tt0062336</td>\n",
       "      <td>NaN</td>\n",
       "      <td>NaN</td>\n",
       "      <td>NaN</td>\n",
       "      <td>The Tango of the Widower and Its Distorting Mi...</td>\n",
       "      <td>El tango del viudo y su espejo deformante</td>\n",
       "      <td>2020.0</td>\n",
       "      <td>NaN</td>\n",
       "      <td>70</td>\n",
       "      <td>Drama</td>\n",
       "    </tr>\n",
       "    <tr>\n",
       "      <th>2</th>\n",
       "      <td>tt0068865</td>\n",
       "      <td>NaN</td>\n",
       "      <td>NaN</td>\n",
       "      <td>NaN</td>\n",
       "      <td>Lives of Performers</td>\n",
       "      <td>Lives of Performers</td>\n",
       "      <td>2016.0</td>\n",
       "      <td>NaN</td>\n",
       "      <td>90</td>\n",
       "      <td>Drama</td>\n",
       "    </tr>\n",
       "    <tr>\n",
       "      <th>3</th>\n",
       "      <td>tt0069049</td>\n",
       "      <td>12000000.0</td>\n",
       "      <td>0.0</td>\n",
       "      <td>R</td>\n",
       "      <td>The Other Side of the Wind</td>\n",
       "      <td>The Other Side of the Wind</td>\n",
       "      <td>2018.0</td>\n",
       "      <td>NaN</td>\n",
       "      <td>122</td>\n",
       "      <td>Drama</td>\n",
       "    </tr>\n",
       "    <tr>\n",
       "      <th>4</th>\n",
       "      <td>tt0088751</td>\n",
       "      <td>NaN</td>\n",
       "      <td>NaN</td>\n",
       "      <td>NaN</td>\n",
       "      <td>The Naked Monster</td>\n",
       "      <td>The Naked Monster</td>\n",
       "      <td>2005.0</td>\n",
       "      <td>NaN</td>\n",
       "      <td>100</td>\n",
       "      <td>Comedy,Horror,Sci-Fi</td>\n",
       "    </tr>\n",
       "  </tbody>\n",
       "</table>\n",
       "</div>"
      ],
      "text/plain": [
       "      tconst      budget  revenue certification  \\\n",
       "0  tt0035423         NaN      NaN           NaN   \n",
       "1  tt0062336         NaN      NaN           NaN   \n",
       "2  tt0068865         NaN      NaN           NaN   \n",
       "3  tt0069049  12000000.0      0.0             R   \n",
       "4  tt0088751         NaN      NaN           NaN   \n",
       "\n",
       "                                        primaryTitle  \\\n",
       "0                                     Kate & Leopold   \n",
       "1  The Tango of the Widower and Its Distorting Mi...   \n",
       "2                                Lives of Performers   \n",
       "3                         The Other Side of the Wind   \n",
       "4                                  The Naked Monster   \n",
       "\n",
       "                               originalTitle  startYear  endYear  \\\n",
       "0                             Kate & Leopold     2001.0      NaN   \n",
       "1  El tango del viudo y su espejo deformante     2020.0      NaN   \n",
       "2                        Lives of Performers     2016.0      NaN   \n",
       "3                 The Other Side of the Wind     2018.0      NaN   \n",
       "4                          The Naked Monster     2005.0      NaN   \n",
       "\n",
       "   runtimeMinutes                  genres  \n",
       "0             118  Comedy,Fantasy,Romance  \n",
       "1              70                   Drama  \n",
       "2              90                   Drama  \n",
       "3             122                   Drama  \n",
       "4             100    Comedy,Horror,Sci-Fi  "
      ]
     },
     "execution_count": 25,
     "metadata": {},
     "output_type": "execute_result"
    }
   ],
   "source": [
    "df = pd.merge(df, basics, on = 'tconst', how = 'right')\n",
    "df.head()"
   ]
  },
  {
   "cell_type": "code",
   "execution_count": 26,
   "id": "a13a2a52",
   "metadata": {},
   "outputs": [],
   "source": [
    "# Drop \"originalTitle\"\n",
    "df = df.drop(columns = 'originalTitle')"
   ]
  },
  {
   "cell_type": "code",
   "execution_count": 27,
   "id": "9fcdcaa5",
   "metadata": {},
   "outputs": [
    {
     "data": {
      "text/html": [
       "<div>\n",
       "<style scoped>\n",
       "    .dataframe tbody tr th:only-of-type {\n",
       "        vertical-align: middle;\n",
       "    }\n",
       "\n",
       "    .dataframe tbody tr th {\n",
       "        vertical-align: top;\n",
       "    }\n",
       "\n",
       "    .dataframe thead th {\n",
       "        text-align: right;\n",
       "    }\n",
       "</style>\n",
       "<table border=\"1\" class=\"dataframe\">\n",
       "  <thead>\n",
       "    <tr style=\"text-align: right;\">\n",
       "      <th></th>\n",
       "      <th>tconst</th>\n",
       "      <th>averageRating</th>\n",
       "      <th>numVotes</th>\n",
       "    </tr>\n",
       "  </thead>\n",
       "  <tbody>\n",
       "    <tr>\n",
       "      <th>0</th>\n",
       "      <td>tt0035423</td>\n",
       "      <td>6.4</td>\n",
       "      <td>87440</td>\n",
       "    </tr>\n",
       "    <tr>\n",
       "      <th>1</th>\n",
       "      <td>tt0062336</td>\n",
       "      <td>6.4</td>\n",
       "      <td>179</td>\n",
       "    </tr>\n",
       "    <tr>\n",
       "      <th>2</th>\n",
       "      <td>tt0068865</td>\n",
       "      <td>5.4</td>\n",
       "      <td>74</td>\n",
       "    </tr>\n",
       "    <tr>\n",
       "      <th>3</th>\n",
       "      <td>tt0069049</td>\n",
       "      <td>6.7</td>\n",
       "      <td>7810</td>\n",
       "    </tr>\n",
       "    <tr>\n",
       "      <th>4</th>\n",
       "      <td>tt0088751</td>\n",
       "      <td>5.2</td>\n",
       "      <td>339</td>\n",
       "    </tr>\n",
       "  </tbody>\n",
       "</table>\n",
       "</div>"
      ],
      "text/plain": [
       "      tconst  averageRating  numVotes\n",
       "0  tt0035423            6.4     87440\n",
       "1  tt0062336            6.4       179\n",
       "2  tt0068865            5.4        74\n",
       "3  tt0069049            6.7      7810\n",
       "4  tt0088751            5.2       339"
      ]
     },
     "execution_count": 27,
     "metadata": {},
     "output_type": "execute_result"
    }
   ],
   "source": [
    "# Now, we need to load in and add or title ratings\n",
    "ratings = pd.read_csv('Data/ratings_compressed_cleaned.csv.gz')\n",
    "ratings.head()\n"
   ]
  },
  {
   "cell_type": "code",
   "execution_count": 28,
   "id": "c000547b",
   "metadata": {
    "scrolled": true
   },
   "outputs": [
    {
     "data": {
      "text/html": [
       "<div>\n",
       "<style scoped>\n",
       "    .dataframe tbody tr th:only-of-type {\n",
       "        vertical-align: middle;\n",
       "    }\n",
       "\n",
       "    .dataframe tbody tr th {\n",
       "        vertical-align: top;\n",
       "    }\n",
       "\n",
       "    .dataframe thead th {\n",
       "        text-align: right;\n",
       "    }\n",
       "</style>\n",
       "<table border=\"1\" class=\"dataframe\">\n",
       "  <thead>\n",
       "    <tr style=\"text-align: right;\">\n",
       "      <th></th>\n",
       "      <th>tconst</th>\n",
       "      <th>budget</th>\n",
       "      <th>revenue</th>\n",
       "      <th>certification</th>\n",
       "      <th>primaryTitle</th>\n",
       "      <th>startYear</th>\n",
       "      <th>endYear</th>\n",
       "      <th>runtimeMinutes</th>\n",
       "      <th>genres</th>\n",
       "      <th>averageRating</th>\n",
       "      <th>numVotes</th>\n",
       "    </tr>\n",
       "  </thead>\n",
       "  <tbody>\n",
       "    <tr>\n",
       "      <th>0</th>\n",
       "      <td>tt0035423</td>\n",
       "      <td>NaN</td>\n",
       "      <td>NaN</td>\n",
       "      <td>NaN</td>\n",
       "      <td>Kate &amp; Leopold</td>\n",
       "      <td>2001.0</td>\n",
       "      <td>NaN</td>\n",
       "      <td>118</td>\n",
       "      <td>Comedy,Fantasy,Romance</td>\n",
       "      <td>6.4</td>\n",
       "      <td>87440</td>\n",
       "    </tr>\n",
       "    <tr>\n",
       "      <th>1</th>\n",
       "      <td>tt0062336</td>\n",
       "      <td>NaN</td>\n",
       "      <td>NaN</td>\n",
       "      <td>NaN</td>\n",
       "      <td>The Tango of the Widower and Its Distorting Mi...</td>\n",
       "      <td>2020.0</td>\n",
       "      <td>NaN</td>\n",
       "      <td>70</td>\n",
       "      <td>Drama</td>\n",
       "      <td>6.4</td>\n",
       "      <td>179</td>\n",
       "    </tr>\n",
       "    <tr>\n",
       "      <th>2</th>\n",
       "      <td>tt0068865</td>\n",
       "      <td>NaN</td>\n",
       "      <td>NaN</td>\n",
       "      <td>NaN</td>\n",
       "      <td>Lives of Performers</td>\n",
       "      <td>2016.0</td>\n",
       "      <td>NaN</td>\n",
       "      <td>90</td>\n",
       "      <td>Drama</td>\n",
       "      <td>5.4</td>\n",
       "      <td>74</td>\n",
       "    </tr>\n",
       "    <tr>\n",
       "      <th>3</th>\n",
       "      <td>tt0069049</td>\n",
       "      <td>12000000.0</td>\n",
       "      <td>0.0</td>\n",
       "      <td>R</td>\n",
       "      <td>The Other Side of the Wind</td>\n",
       "      <td>2018.0</td>\n",
       "      <td>NaN</td>\n",
       "      <td>122</td>\n",
       "      <td>Drama</td>\n",
       "      <td>6.7</td>\n",
       "      <td>7810</td>\n",
       "    </tr>\n",
       "    <tr>\n",
       "      <th>4</th>\n",
       "      <td>tt0088751</td>\n",
       "      <td>NaN</td>\n",
       "      <td>NaN</td>\n",
       "      <td>NaN</td>\n",
       "      <td>The Naked Monster</td>\n",
       "      <td>2005.0</td>\n",
       "      <td>NaN</td>\n",
       "      <td>100</td>\n",
       "      <td>Comedy,Horror,Sci-Fi</td>\n",
       "      <td>5.2</td>\n",
       "      <td>339</td>\n",
       "    </tr>\n",
       "  </tbody>\n",
       "</table>\n",
       "</div>"
      ],
      "text/plain": [
       "      tconst      budget  revenue certification  \\\n",
       "0  tt0035423         NaN      NaN           NaN   \n",
       "1  tt0062336         NaN      NaN           NaN   \n",
       "2  tt0068865         NaN      NaN           NaN   \n",
       "3  tt0069049  12000000.0      0.0             R   \n",
       "4  tt0088751         NaN      NaN           NaN   \n",
       "\n",
       "                                        primaryTitle  startYear  endYear  \\\n",
       "0                                     Kate & Leopold     2001.0      NaN   \n",
       "1  The Tango of the Widower and Its Distorting Mi...     2020.0      NaN   \n",
       "2                                Lives of Performers     2016.0      NaN   \n",
       "3                         The Other Side of the Wind     2018.0      NaN   \n",
       "4                                  The Naked Monster     2005.0      NaN   \n",
       "\n",
       "   runtimeMinutes                  genres  averageRating  numVotes  \n",
       "0             118  Comedy,Fantasy,Romance            6.4     87440  \n",
       "1              70                   Drama            6.4       179  \n",
       "2              90                   Drama            5.4        74  \n",
       "3             122                   Drama            6.7      7810  \n",
       "4             100    Comedy,Horror,Sci-Fi            5.2       339  "
      ]
     },
     "execution_count": 28,
     "metadata": {},
     "output_type": "execute_result"
    }
   ],
   "source": [
    "# Merg this with our df\n",
    "df = pd.merge(df, ratings, on = 'tconst', how = 'right')\n",
    "df.head()\n"
   ]
  },
  {
   "cell_type": "code",
   "execution_count": 29,
   "id": "8ff76f8a",
   "metadata": {},
   "outputs": [],
   "source": [
    "# Drop rows with NaN values in the 'primaryTitle'\n",
    "df = df.dropna(subset = 'primaryTitle')"
   ]
  },
  {
   "cell_type": "code",
   "execution_count": 30,
   "id": "523cb787",
   "metadata": {},
   "outputs": [
    {
     "data": {
      "text/plain": [
       "certification\n",
       "R        3120\n",
       "PG-13    1749\n",
       "PG        797\n",
       "G         266\n",
       "Name: count, dtype: int64"
      ]
     },
     "execution_count": 30,
     "metadata": {},
     "output_type": "execute_result"
    }
   ],
   "source": [
    "# Drop Certifications that are not of interest\n",
    "\n",
    "df['certification'] = df['certification'].replace({'-':'drop', 'NC-17':'drop',\n",
    "                                                   'NR':'drop', '10': 'drop',\n",
    "                                                   'Unrated':'drop'})\n",
    "# Filter out rows with 'drop' in the certification column\n",
    "df = df[df.certification != 'drop']\n",
    "\n",
    "# Replace the single R anf PG-13 values\n",
    "df['certification'] = df['certification'].replace({'R ':'R', 'PG-13 ': 'PG-13'})\n",
    "df['certification'].value_counts()"
   ]
  },
  {
   "cell_type": "code",
   "execution_count": 31,
   "id": "bc8260b0",
   "metadata": {},
   "outputs": [],
   "source": [
    "# Make a copy df\n",
    "anova_df = df.copy()"
   ]
  },
  {
   "cell_type": "code",
   "execution_count": 32,
   "id": "f0d8e820",
   "metadata": {},
   "outputs": [],
   "source": [
    "# Drop 0.0 revenue values\n",
    "anova_df = anova_df[anova_df.revenue != 0.0]"
   ]
  },
  {
   "cell_type": "markdown",
   "id": "789becf6",
   "metadata": {},
   "source": [
    "## Does the MPAA rating of a movie (G/PG/PG-13/R) affect how much revenue the movie generates?\n",
    "\n",
    "H0:  Movie rating does not siginifantly affect the amount of revenue a movie generates.\n",
    "\n",
    "HA: There is a significant affect of movie rating on the amount of revenue a movie generates.  \n",
    "\n",
    "\n",
    "We need to assess for outliers using Tukey's rule for Outliers\n",
    "Tukey's rule states that outliers are those values more than 1.5 times the IQR (Interquartile Range).\n",
    "Assumptions for Tukey's rule for outliers:\n",
    "rule states that outliers are those values more than 1.5 times the IQR (Interquartile Range)\n",
    "    - 1.5 times lower than Q1 (Q1 - 1.5IQR)\n",
    "    - 1.5 times higher than Q3 (Q3 + 1.5IQR)\n",
    "Therefore, we need to calculate our Q1, Q3, and IQR. Then, we can find our upper and lower limits, and drop outliers outside that range.\n",
    "\n",
    "The below code was adapted from: https://www.youtube.com/watch?v=A3gClkblXK8"
   ]
  },
  {
   "cell_type": "code",
   "execution_count": 33,
   "id": "92d1ddd4",
   "metadata": {
    "scrolled": true
   },
   "outputs": [
    {
     "data": {
      "text/plain": [
       "(2133137.75, 95325728.25)"
      ]
     },
     "execution_count": 33,
     "metadata": {},
     "output_type": "execute_result"
    }
   ],
   "source": [
    "# Calculate Q1 and Q2\n",
    "Q1 = anova_df.revenue.quantile(0.25)\n",
    "Q3 = anova_df.revenue.quantile(0.75)\n",
    "Q1, Q3"
   ]
  },
  {
   "cell_type": "code",
   "execution_count": 34,
   "id": "ac435e5b",
   "metadata": {
    "scrolled": true
   },
   "outputs": [
    {
     "data": {
      "text/plain": [
       "93192590.5"
      ]
     },
     "execution_count": 34,
     "metadata": {},
     "output_type": "execute_result"
    }
   ],
   "source": [
    "# Calculate IQR\n",
    "IQR = Q3 - Q1\n",
    "IQR"
   ]
  },
  {
   "cell_type": "code",
   "execution_count": 35,
   "id": "0e1c80ad",
   "metadata": {
    "scrolled": true
   },
   "outputs": [
    {
     "data": {
      "text/plain": [
       "(-137655748.0, 235114614.0)"
      ]
     },
     "execution_count": 35,
     "metadata": {},
     "output_type": "execute_result"
    }
   ],
   "source": [
    "# Set upper and lower limit\n",
    "lower_limit = Q1 - (1.5 * IQR)\n",
    "upper_limit = Q3 + (1.5 * IQR)\n",
    "lower_limit, upper_limit"
   ]
  },
  {
   "cell_type": "code",
   "execution_count": 36,
   "id": "312216f8",
   "metadata": {
    "scrolled": true
   },
   "outputs": [
    {
     "data": {
      "text/html": [
       "<div>\n",
       "<style scoped>\n",
       "    .dataframe tbody tr th:only-of-type {\n",
       "        vertical-align: middle;\n",
       "    }\n",
       "\n",
       "    .dataframe tbody tr th {\n",
       "        vertical-align: top;\n",
       "    }\n",
       "\n",
       "    .dataframe thead th {\n",
       "        text-align: right;\n",
       "    }\n",
       "</style>\n",
       "<table border=\"1\" class=\"dataframe\">\n",
       "  <thead>\n",
       "    <tr style=\"text-align: right;\">\n",
       "      <th></th>\n",
       "      <th>tconst</th>\n",
       "      <th>budget</th>\n",
       "      <th>revenue</th>\n",
       "      <th>certification</th>\n",
       "      <th>primaryTitle</th>\n",
       "      <th>startYear</th>\n",
       "      <th>endYear</th>\n",
       "      <th>runtimeMinutes</th>\n",
       "      <th>genres</th>\n",
       "      <th>averageRating</th>\n",
       "      <th>numVotes</th>\n",
       "    </tr>\n",
       "  </thead>\n",
       "  <tbody>\n",
       "    <tr>\n",
       "      <th>5603</th>\n",
       "      <td>tt0369610</td>\n",
       "      <td>150000000.0</td>\n",
       "      <td>1.671537e+09</td>\n",
       "      <td>PG-13</td>\n",
       "      <td>Jurassic World</td>\n",
       "      <td>2015.0</td>\n",
       "      <td>NaN</td>\n",
       "      <td>124</td>\n",
       "      <td>Action,Adventure,Sci-Fi</td>\n",
       "      <td>6.9</td>\n",
       "      <td>664368</td>\n",
       "    </tr>\n",
       "    <tr>\n",
       "      <th>6736</th>\n",
       "      <td>tt0398286</td>\n",
       "      <td>260000000.0</td>\n",
       "      <td>5.924617e+08</td>\n",
       "      <td>PG</td>\n",
       "      <td>Tangled</td>\n",
       "      <td>2010.0</td>\n",
       "      <td>NaN</td>\n",
       "      <td>100</td>\n",
       "      <td>Adventure,Animation,Comedy</td>\n",
       "      <td>7.7</td>\n",
       "      <td>476668</td>\n",
       "    </tr>\n",
       "    <tr>\n",
       "      <th>6855</th>\n",
       "      <td>tt0401729</td>\n",
       "      <td>250000000.0</td>\n",
       "      <td>2.841391e+08</td>\n",
       "      <td>PG-13</td>\n",
       "      <td>John Carter</td>\n",
       "      <td>2012.0</td>\n",
       "      <td>NaN</td>\n",
       "      <td>132</td>\n",
       "      <td>Action,Adventure,Sci-Fi</td>\n",
       "      <td>6.6</td>\n",
       "      <td>281112</td>\n",
       "    </tr>\n",
       "    <tr>\n",
       "      <th>8096</th>\n",
       "      <td>tt0433035</td>\n",
       "      <td>110000000.0</td>\n",
       "      <td>2.992685e+08</td>\n",
       "      <td>PG-13</td>\n",
       "      <td>Real Steel</td>\n",
       "      <td>2011.0</td>\n",
       "      <td>NaN</td>\n",
       "      <td>127</td>\n",
       "      <td>Action,Drama,Sci-Fi</td>\n",
       "      <td>7.1</td>\n",
       "      <td>345439</td>\n",
       "    </tr>\n",
       "    <tr>\n",
       "      <th>8210</th>\n",
       "      <td>tt0435761</td>\n",
       "      <td>200000000.0</td>\n",
       "      <td>1.066970e+09</td>\n",
       "      <td>G</td>\n",
       "      <td>Toy Story 3</td>\n",
       "      <td>2010.0</td>\n",
       "      <td>NaN</td>\n",
       "      <td>103</td>\n",
       "      <td>Adventure,Animation,Comedy</td>\n",
       "      <td>8.3</td>\n",
       "      <td>867615</td>\n",
       "    </tr>\n",
       "    <tr>\n",
       "      <th>...</th>\n",
       "      <td>...</td>\n",
       "      <td>...</td>\n",
       "      <td>...</td>\n",
       "      <td>...</td>\n",
       "      <td>...</td>\n",
       "      <td>...</td>\n",
       "      <td>...</td>\n",
       "      <td>...</td>\n",
       "      <td>...</td>\n",
       "      <td>...</td>\n",
       "      <td>...</td>\n",
       "    </tr>\n",
       "    <tr>\n",
       "      <th>61174</th>\n",
       "      <td>tt7286456</td>\n",
       "      <td>55000000.0</td>\n",
       "      <td>1.074458e+09</td>\n",
       "      <td>R</td>\n",
       "      <td>Joker</td>\n",
       "      <td>2019.0</td>\n",
       "      <td>NaN</td>\n",
       "      <td>122</td>\n",
       "      <td>Crime,Drama,Thriller</td>\n",
       "      <td>8.4</td>\n",
       "      <td>1394600</td>\n",
       "    </tr>\n",
       "    <tr>\n",
       "      <th>61409</th>\n",
       "      <td>tt7349950</td>\n",
       "      <td>79000000.0</td>\n",
       "      <td>4.731225e+08</td>\n",
       "      <td>R</td>\n",
       "      <td>It Chapter Two</td>\n",
       "      <td>2019.0</td>\n",
       "      <td>NaN</td>\n",
       "      <td>169</td>\n",
       "      <td>Drama,Fantasy,Horror</td>\n",
       "      <td>6.5</td>\n",
       "      <td>286817</td>\n",
       "    </tr>\n",
       "    <tr>\n",
       "      <th>63244</th>\n",
       "      <td>tt7975244</td>\n",
       "      <td>125000000.0</td>\n",
       "      <td>8.016939e+08</td>\n",
       "      <td>PG-13</td>\n",
       "      <td>Jumanji: The Next Level</td>\n",
       "      <td>2019.0</td>\n",
       "      <td>NaN</td>\n",
       "      <td>123</td>\n",
       "      <td>Action,Adventure,Comedy</td>\n",
       "      <td>6.7</td>\n",
       "      <td>269428</td>\n",
       "    </tr>\n",
       "    <tr>\n",
       "      <th>64860</th>\n",
       "      <td>tt8579674</td>\n",
       "      <td>100000000.0</td>\n",
       "      <td>3.946383e+08</td>\n",
       "      <td>R</td>\n",
       "      <td>1917</td>\n",
       "      <td>2019.0</td>\n",
       "      <td>NaN</td>\n",
       "      <td>119</td>\n",
       "      <td>Action,Drama,War</td>\n",
       "      <td>8.2</td>\n",
       "      <td>639208</td>\n",
       "    </tr>\n",
       "    <tr>\n",
       "      <th>65811</th>\n",
       "      <td>tt8946378</td>\n",
       "      <td>40000000.0</td>\n",
       "      <td>3.128979e+08</td>\n",
       "      <td>PG-13</td>\n",
       "      <td>Knives Out</td>\n",
       "      <td>2019.0</td>\n",
       "      <td>NaN</td>\n",
       "      <td>130</td>\n",
       "      <td>Comedy,Crime,Drama</td>\n",
       "      <td>7.9</td>\n",
       "      <td>738762</td>\n",
       "    </tr>\n",
       "  </tbody>\n",
       "</table>\n",
       "<p>318 rows × 11 columns</p>\n",
       "</div>"
      ],
      "text/plain": [
       "          tconst       budget       revenue certification  \\\n",
       "5603   tt0369610  150000000.0  1.671537e+09         PG-13   \n",
       "6736   tt0398286  260000000.0  5.924617e+08            PG   \n",
       "6855   tt0401729  250000000.0  2.841391e+08         PG-13   \n",
       "8096   tt0433035  110000000.0  2.992685e+08         PG-13   \n",
       "8210   tt0435761  200000000.0  1.066970e+09             G   \n",
       "...          ...          ...           ...           ...   \n",
       "61174  tt7286456   55000000.0  1.074458e+09             R   \n",
       "61409  tt7349950   79000000.0  4.731225e+08             R   \n",
       "63244  tt7975244  125000000.0  8.016939e+08         PG-13   \n",
       "64860  tt8579674  100000000.0  3.946383e+08             R   \n",
       "65811  tt8946378   40000000.0  3.128979e+08         PG-13   \n",
       "\n",
       "                  primaryTitle  startYear  endYear  runtimeMinutes  \\\n",
       "5603            Jurassic World     2015.0      NaN             124   \n",
       "6736                   Tangled     2010.0      NaN             100   \n",
       "6855               John Carter     2012.0      NaN             132   \n",
       "8096                Real Steel     2011.0      NaN             127   \n",
       "8210               Toy Story 3     2010.0      NaN             103   \n",
       "...                        ...        ...      ...             ...   \n",
       "61174                    Joker     2019.0      NaN             122   \n",
       "61409           It Chapter Two     2019.0      NaN             169   \n",
       "63244  Jumanji: The Next Level     2019.0      NaN             123   \n",
       "64860                     1917     2019.0      NaN             119   \n",
       "65811               Knives Out     2019.0      NaN             130   \n",
       "\n",
       "                           genres  averageRating  numVotes  \n",
       "5603      Action,Adventure,Sci-Fi            6.9    664368  \n",
       "6736   Adventure,Animation,Comedy            7.7    476668  \n",
       "6855      Action,Adventure,Sci-Fi            6.6    281112  \n",
       "8096          Action,Drama,Sci-Fi            7.1    345439  \n",
       "8210   Adventure,Animation,Comedy            8.3    867615  \n",
       "...                           ...            ...       ...  \n",
       "61174        Crime,Drama,Thriller            8.4   1394600  \n",
       "61409        Drama,Fantasy,Horror            6.5    286817  \n",
       "63244     Action,Adventure,Comedy            6.7    269428  \n",
       "64860            Action,Drama,War            8.2    639208  \n",
       "65811          Comedy,Crime,Drama            7.9    738762  \n",
       "\n",
       "[318 rows x 11 columns]"
      ]
     },
     "execution_count": 36,
     "metadata": {},
     "output_type": "execute_result"
    }
   ],
   "source": [
    "# Now, we will find and list our outliers\n",
    "anova_df[(anova_df.revenue < lower_limit) | (anova_df.revenue > upper_limit)]"
   ]
  },
  {
   "cell_type": "code",
   "execution_count": 37,
   "id": "11a3d663",
   "metadata": {
    "scrolled": true
   },
   "outputs": [
    {
     "data": {
      "text/html": [
       "<div>\n",
       "<style scoped>\n",
       "    .dataframe tbody tr th:only-of-type {\n",
       "        vertical-align: middle;\n",
       "    }\n",
       "\n",
       "    .dataframe tbody tr th {\n",
       "        vertical-align: top;\n",
       "    }\n",
       "\n",
       "    .dataframe thead th {\n",
       "        text-align: right;\n",
       "    }\n",
       "</style>\n",
       "<table border=\"1\" class=\"dataframe\">\n",
       "  <thead>\n",
       "    <tr style=\"text-align: right;\">\n",
       "      <th></th>\n",
       "      <th>tconst</th>\n",
       "      <th>budget</th>\n",
       "      <th>revenue</th>\n",
       "      <th>certification</th>\n",
       "      <th>primaryTitle</th>\n",
       "      <th>startYear</th>\n",
       "      <th>endYear</th>\n",
       "      <th>runtimeMinutes</th>\n",
       "      <th>genres</th>\n",
       "      <th>averageRating</th>\n",
       "      <th>numVotes</th>\n",
       "    </tr>\n",
       "  </thead>\n",
       "  <tbody>\n",
       "    <tr>\n",
       "      <th>1596</th>\n",
       "      <td>tt0249516</td>\n",
       "      <td>65000000.0</td>\n",
       "      <td>73706.0</td>\n",
       "      <td>PG</td>\n",
       "      <td>Foodfight!</td>\n",
       "      <td>2012.0</td>\n",
       "      <td>NaN</td>\n",
       "      <td>91</td>\n",
       "      <td>Action,Adventure,Animation</td>\n",
       "      <td>1.3</td>\n",
       "      <td>11607</td>\n",
       "    </tr>\n",
       "    <tr>\n",
       "      <th>3879</th>\n",
       "      <td>tt0315642</td>\n",
       "      <td>5200000.0</td>\n",
       "      <td>9200000.0</td>\n",
       "      <td>PG-13</td>\n",
       "      <td>Wazir</td>\n",
       "      <td>2016.0</td>\n",
       "      <td>NaN</td>\n",
       "      <td>103</td>\n",
       "      <td>Action,Crime,Drama</td>\n",
       "      <td>7.1</td>\n",
       "      <td>19607</td>\n",
       "    </tr>\n",
       "    <tr>\n",
       "      <th>4507</th>\n",
       "      <td>tt0337692</td>\n",
       "      <td>25000000.0</td>\n",
       "      <td>8784318.0</td>\n",
       "      <td>R</td>\n",
       "      <td>On the Road</td>\n",
       "      <td>2012.0</td>\n",
       "      <td>NaN</td>\n",
       "      <td>124</td>\n",
       "      <td>Adventure,Drama,Romance</td>\n",
       "      <td>6.0</td>\n",
       "      <td>42803</td>\n",
       "    </tr>\n",
       "    <tr>\n",
       "      <th>5151</th>\n",
       "      <td>tt0359950</td>\n",
       "      <td>90000000.0</td>\n",
       "      <td>188133322.0</td>\n",
       "      <td>PG</td>\n",
       "      <td>The Secret Life of Walter Mitty</td>\n",
       "      <td>2013.0</td>\n",
       "      <td>NaN</td>\n",
       "      <td>114</td>\n",
       "      <td>Adventure,Comedy,Drama</td>\n",
       "      <td>7.3</td>\n",
       "      <td>329823</td>\n",
       "    </tr>\n",
       "    <tr>\n",
       "      <th>5411</th>\n",
       "      <td>tt0365907</td>\n",
       "      <td>28000000.0</td>\n",
       "      <td>58834384.0</td>\n",
       "      <td>R</td>\n",
       "      <td>A Walk Among the Tombstones</td>\n",
       "      <td>2014.0</td>\n",
       "      <td>NaN</td>\n",
       "      <td>114</td>\n",
       "      <td>Action,Crime,Drama</td>\n",
       "      <td>6.5</td>\n",
       "      <td>125231</td>\n",
       "    </tr>\n",
       "    <tr>\n",
       "      <th>...</th>\n",
       "      <td>...</td>\n",
       "      <td>...</td>\n",
       "      <td>...</td>\n",
       "      <td>...</td>\n",
       "      <td>...</td>\n",
       "      <td>...</td>\n",
       "      <td>...</td>\n",
       "      <td>...</td>\n",
       "      <td>...</td>\n",
       "      <td>...</td>\n",
       "      <td>...</td>\n",
       "    </tr>\n",
       "    <tr>\n",
       "      <th>67036</th>\n",
       "      <td>tt9430698</td>\n",
       "      <td>0.0</td>\n",
       "      <td>81562741.0</td>\n",
       "      <td>PG-13</td>\n",
       "      <td>One Piece: Stampede</td>\n",
       "      <td>2019.0</td>\n",
       "      <td>NaN</td>\n",
       "      <td>101</td>\n",
       "      <td>Action,Adventure,Animation</td>\n",
       "      <td>7.5</td>\n",
       "      <td>7318</td>\n",
       "    </tr>\n",
       "    <tr>\n",
       "      <th>67170</th>\n",
       "      <td>tt9501310</td>\n",
       "      <td>0.0</td>\n",
       "      <td>115570314.0</td>\n",
       "      <td>PG-13</td>\n",
       "      <td>Detective Conan: The Fist of Blue Sapphire</td>\n",
       "      <td>2019.0</td>\n",
       "      <td>NaN</td>\n",
       "      <td>109</td>\n",
       "      <td>Action,Adventure,Animation</td>\n",
       "      <td>6.2</td>\n",
       "      <td>1839</td>\n",
       "    </tr>\n",
       "    <tr>\n",
       "      <th>67386</th>\n",
       "      <td>tt9625664</td>\n",
       "      <td>0.0</td>\n",
       "      <td>92968.0</td>\n",
       "      <td>R</td>\n",
       "      <td>Trauma Center</td>\n",
       "      <td>2019.0</td>\n",
       "      <td>NaN</td>\n",
       "      <td>87</td>\n",
       "      <td>Action,Thriller</td>\n",
       "      <td>4.0</td>\n",
       "      <td>11708</td>\n",
       "    </tr>\n",
       "    <tr>\n",
       "      <th>67778</th>\n",
       "      <td>tt9795368</td>\n",
       "      <td>0.0</td>\n",
       "      <td>1964806.0</td>\n",
       "      <td>R</td>\n",
       "      <td>The Conquest of Siberia</td>\n",
       "      <td>2019.0</td>\n",
       "      <td>NaN</td>\n",
       "      <td>108</td>\n",
       "      <td>Action,Crime,Drama</td>\n",
       "      <td>5.8</td>\n",
       "      <td>1246</td>\n",
       "    </tr>\n",
       "    <tr>\n",
       "      <th>67856</th>\n",
       "      <td>tt9826484</td>\n",
       "      <td>0.0</td>\n",
       "      <td>15712.0</td>\n",
       "      <td>R</td>\n",
       "      <td>Trinity Seven The Movie 2: Heavens Library &amp; C...</td>\n",
       "      <td>2019.0</td>\n",
       "      <td>NaN</td>\n",
       "      <td>63</td>\n",
       "      <td>Action,Animation,Comedy</td>\n",
       "      <td>6.5</td>\n",
       "      <td>334</td>\n",
       "    </tr>\n",
       "  </tbody>\n",
       "</table>\n",
       "<p>2268 rows × 11 columns</p>\n",
       "</div>"
      ],
      "text/plain": [
       "          tconst      budget      revenue certification  \\\n",
       "1596   tt0249516  65000000.0      73706.0            PG   \n",
       "3879   tt0315642   5200000.0    9200000.0         PG-13   \n",
       "4507   tt0337692  25000000.0    8784318.0             R   \n",
       "5151   tt0359950  90000000.0  188133322.0            PG   \n",
       "5411   tt0365907  28000000.0   58834384.0             R   \n",
       "...          ...         ...          ...           ...   \n",
       "67036  tt9430698         0.0   81562741.0         PG-13   \n",
       "67170  tt9501310         0.0  115570314.0         PG-13   \n",
       "67386  tt9625664         0.0      92968.0             R   \n",
       "67778  tt9795368         0.0    1964806.0             R   \n",
       "67856  tt9826484         0.0      15712.0             R   \n",
       "\n",
       "                                            primaryTitle  startYear  endYear  \\\n",
       "1596                                          Foodfight!     2012.0      NaN   \n",
       "3879                                               Wazir     2016.0      NaN   \n",
       "4507                                         On the Road     2012.0      NaN   \n",
       "5151                     The Secret Life of Walter Mitty     2013.0      NaN   \n",
       "5411                         A Walk Among the Tombstones     2014.0      NaN   \n",
       "...                                                  ...        ...      ...   \n",
       "67036                                One Piece: Stampede     2019.0      NaN   \n",
       "67170         Detective Conan: The Fist of Blue Sapphire     2019.0      NaN   \n",
       "67386                                      Trauma Center     2019.0      NaN   \n",
       "67778                            The Conquest of Siberia     2019.0      NaN   \n",
       "67856  Trinity Seven The Movie 2: Heavens Library & C...     2019.0      NaN   \n",
       "\n",
       "       runtimeMinutes                      genres  averageRating  numVotes  \n",
       "1596               91  Action,Adventure,Animation            1.3     11607  \n",
       "3879              103          Action,Crime,Drama            7.1     19607  \n",
       "4507              124     Adventure,Drama,Romance            6.0     42803  \n",
       "5151              114      Adventure,Comedy,Drama            7.3    329823  \n",
       "5411              114          Action,Crime,Drama            6.5    125231  \n",
       "...               ...                         ...            ...       ...  \n",
       "67036             101  Action,Adventure,Animation            7.5      7318  \n",
       "67170             109  Action,Adventure,Animation            6.2      1839  \n",
       "67386              87             Action,Thriller            4.0     11708  \n",
       "67778             108          Action,Crime,Drama            5.8      1246  \n",
       "67856              63     Action,Animation,Comedy            6.5       334  \n",
       "\n",
       "[2268 rows x 11 columns]"
      ]
     },
     "execution_count": 37,
     "metadata": {},
     "output_type": "execute_result"
    }
   ],
   "source": [
    "# Remove outliers\n",
    "\n",
    "anova_no_outliers = anova_df[(anova_df.revenue > lower_limit) & (anova_df.revenue < upper_limit)]\n",
    "anova_no_outliers"
   ]
  },
  {
   "cell_type": "code",
   "execution_count": 38,
   "id": "5de4e2f8",
   "metadata": {
    "scrolled": true
   },
   "outputs": [
    {
     "data": {
      "text/plain": [
       "dict_keys(['PG', 'PG-13', 'R', 'G'])"
      ]
     },
     "execution_count": 38,
     "metadata": {},
     "output_type": "execute_result"
    }
   ],
   "source": [
    "# We need to separate and analyze our groups individually. We have 4 ratings\n",
    "certifications = {}\n",
    "\n",
    "# Loop through all unique characteristics\n",
    "for i in anova_no_outliers['certification'].unique():\n",
    "    data = anova_no_outliers.loc[anova_no_outliers['certification'] == i,\n",
    "                                 'revenue'].copy()\n",
    "    \n",
    "    # Save results in dictionary\n",
    "    certifications[i] = data\n",
    "    \n",
    "certifications.keys()"
   ]
  },
  {
   "cell_type": "code",
   "execution_count": 39,
   "id": "7dd3506a",
   "metadata": {
    "scrolled": false
   },
   "outputs": [
    {
     "ename": "NameError",
     "evalue": "name 'norm_results_df' is not defined",
     "output_type": "error",
     "traceback": [
      "\u001b[1;31m---------------------------------------------------------------------------\u001b[0m",
      "\u001b[1;31mNameError\u001b[0m                                 Traceback (most recent call last)",
      "Cell \u001b[1;32mIn [39], line 11\u001b[0m\n\u001b[0;32m      8\u001b[0m     norm_results[i] \u001b[38;5;241m=\u001b[39m {\u001b[38;5;124m'\u001b[39m\u001b[38;5;124mn\u001b[39m\u001b[38;5;124m'\u001b[39m: \u001b[38;5;28mlen\u001b[39m(data), \u001b[38;5;124m'\u001b[39m\u001b[38;5;124mp\u001b[39m\u001b[38;5;124m'\u001b[39m: p, \u001b[38;5;124m'\u001b[39m\u001b[38;5;124mtest stat\u001b[39m\u001b[38;5;124m'\u001b[39m: stat,}\n\u001b[0;32m     10\u001b[0m \u001b[38;5;66;03m# Convert to a DF\u001b[39;00m\n\u001b[1;32m---> 11\u001b[0m norm_results_df[\u001b[38;5;124m'\u001b[39m\u001b[38;5;124msig\u001b[39m\u001b[38;5;124m'\u001b[39m] \u001b[38;5;241m=\u001b[39m \u001b[43mnorm_results_df\u001b[49m[\u001b[38;5;124m'\u001b[39m\u001b[38;5;124mp\u001b[39m\u001b[38;5;124m'\u001b[39m] \u001b[38;5;241m<\u001b[39m \u001b[38;5;241m0.05\u001b[39m\n\u001b[0;32m     12\u001b[0m norm_results_df\n",
      "\u001b[1;31mNameError\u001b[0m: name 'norm_results_df' is not defined"
     ]
    }
   ],
   "source": [
    "# Now, we can assess normality of our certifications (groups)\n",
    "norm_results = {}\n",
    "\n",
    "for i, data in certifications.items():\n",
    "    stat, p = stats.normaltest(data)\n",
    "    \n",
    "    # Append norm_results with p-values, test stats, and size of region group\n",
    "    norm_results[i] = {'n': len(data), 'p': p, 'test stat': stat,}\n",
    "    \n",
    "# Convert to a DF\n",
    "norm_results_df['sig'] = norm_results_df['p'] < 0.05\n",
    "norm_results_df"
   ]
  },
  {
   "cell_type": "markdown",
   "id": "bee86d41",
   "metadata": {},
   "source": [
    "- Variance is not equal.  \n",
    "- We will perform a Kruskal-Wallis test.\n"
   ]
  },
  {
   "cell_type": "code",
   "execution_count": null,
   "id": "09306565",
   "metadata": {
    "scrolled": true
   },
   "outputs": [],
   "source": [
    "results_anova = stats.kruskal(*certifications.values())\n",
    "results_anova"
   ]
  },
  {
   "cell_type": "markdown",
   "id": "20a2cb26",
   "metadata": {},
   "source": [
    "- With p values < 0.05, we reject our null hypothesis.\n",
    "- There is a significant difference between revenue generated based on the movie rating class. \n",
    "\n"
   ]
  },
  {
   "cell_type": "markdown",
   "id": "1685190e",
   "metadata": {},
   "source": [
    "## Do movies with longer runtimes (>2 hours) have higher revenue?\n",
    "\n",
    "H0:  Movie runtime does not siginifantly affect the amount of revenue a movie generates.\n",
    "\n",
    "HA: There is a significant affect of movie runtime on the amount of revenue a movie generates."
   ]
  },
  {
   "cell_type": "code",
   "execution_count": null,
   "id": "92dc2763",
   "metadata": {},
   "outputs": [],
   "source": [
    "# Create new DF with no revenue values = 0\n",
    "length_df = df.copy()\n",
    "length_df = length_df[length_df.revenue != 0.0]"
   ]
  },
  {
   "cell_type": "code",
   "execution_count": null,
   "id": "65bc8867",
   "metadata": {},
   "outputs": [],
   "source": [
    "# Create 2 dfs for long and short movies\n",
    "long_movie = length_df.loc[df['runtimeMinutes'] >= 120.0].copy()\n",
    "short_movie = length_df.loc[df['runtimeMinutes'] < 120.0].copy()\n",
    "\n",
    "# Get new movie DF info\n",
    "display(long_movie.info(), short_movie.info())"
   ]
  },
  {
   "cell_type": "code",
   "execution_count": null,
   "id": "92592b5b",
   "metadata": {
    "scrolled": true
   },
   "outputs": [],
   "source": [
    "# Create a num boolean column to help us with visualizations\n",
    "length_df['short_movie'] = length_df[['runtimeMinutes']].sum(axis = 1) < 120.0 \n",
    "length_df"
   ]
  },
  {
   "cell_type": "code",
   "execution_count": null,
   "id": "02273657",
   "metadata": {
    "scrolled": true
   },
   "outputs": [],
   "source": [
    "# Visualize before dealing with outliers\n",
    "fig, ax = plt.subplots(figsize = (4.2, 4.2))\n",
    "sns.barplot(data = length_df, x = 'short_movie', y = 'revenue', \n",
    "            hue = 'short_movie')\n",
    "plt.title('Average revenue by movie length');"
   ]
  },
  {
   "cell_type": "code",
   "execution_count": null,
   "id": "3a9094b5",
   "metadata": {},
   "outputs": [],
   "source": [
    "# Drop null values so they don't interfere with our statistical test\n",
    "long_movie.dropna(inplace = True)\n",
    "short_movie.dropna(inplace = True)"
   ]
  },
  {
   "cell_type": "code",
   "execution_count": null,
   "id": "76eb0a27",
   "metadata": {},
   "outputs": [],
   "source": [
    "# Define features of interest\n",
    "long_revenue = long_movie['revenue']\n",
    "short_revenue = short_movie['revenue']"
   ]
  },
  {
   "cell_type": "code",
   "execution_count": null,
   "id": "992b9c99",
   "metadata": {
    "scrolled": true
   },
   "outputs": [],
   "source": [
    "# Check for outliers separately in both groups\n",
    "zscores_long = stats.zscore(long_revenue)\n",
    "outliers = abs(zscores_long) > 3\n",
    "np.sum(outliers)"
   ]
  },
  {
   "cell_type": "code",
   "execution_count": null,
   "id": "c4de4d49",
   "metadata": {
    "scrolled": true
   },
   "outputs": [],
   "source": [
    "# Check for outliers separately in both groups\n",
    "zscores_short = stats.zscore(short_revenue)\n",
    "outliers = abs(zscores_short) > 3\n",
    "np.sum(outliers)"
   ]
  },
  {
   "cell_type": "code",
   "execution_count": null,
   "id": "055660dd",
   "metadata": {},
   "outputs": [],
   "source": [
    "# Remove Outliers\n",
    "long_revenue = long_revenue[(np.abs(stats.zscore(long_budget)) < 3)]\n",
    "short_revenue = short_revenue[(np.abs(stats.zscore(short_budget)) < 3)]"
   ]
  },
  {
   "cell_type": "code",
   "execution_count": null,
   "id": "2b843ea4",
   "metadata": {},
   "outputs": [],
   "source": [
    "# Check for normality\n",
    "result_long_movie = stats.normaltest(long_revenue)\n",
    "result_long_movie"
   ]
  }
 ],
 "metadata": {
  "kernelspec": {
   "display_name": "Python (dojo-env)",
   "language": "python",
   "name": "dojo-env"
  },
  "language_info": {
   "codemirror_mode": {
    "name": "ipython",
    "version": 3
   },
   "file_extension": ".py",
   "mimetype": "text/x-python",
   "name": "python",
   "nbconvert_exporter": "python",
   "pygments_lexer": "ipython3",
   "version": "3.9.15"
  },
  "toc": {
   "base_numbering": 1,
   "nav_menu": {},
   "number_sections": true,
   "sideBar": true,
   "skip_h1_title": false,
   "title_cell": "Table of Contents",
   "title_sidebar": "Contents",
   "toc_cell": false,
   "toc_position": {},
   "toc_section_display": true,
   "toc_window_display": false
  }
 },
 "nbformat": 4,
 "nbformat_minor": 5
}
