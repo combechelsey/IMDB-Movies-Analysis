{
 "cells": [
  {
   "cell_type": "markdown",
   "id": "3b51e966",
   "metadata": {},
   "source": [
    "# Hypothesis Testing\n",
    "\n",
    "- Does the MPAA rating of a movie (G/PG/PG-13/R) affect how much revenue the movie generates?\n",
    "\n",
    "- Do some movie genres earn more revenue than others?\n",
    "\n",
    "- Does the month of release affect revenue?"
   ]
  },
  {
   "cell_type": "markdown",
   "id": "52aa1185",
   "metadata": {},
   "source": [
    "## Concanteate API Calls for years 2010 - 2019"
   ]
  },
  {
   "cell_type": "code",
   "execution_count": 1,
   "id": "03e5fa18",
   "metadata": {},
   "outputs": [],
   "source": [
    "import numpy as np\n",
    "import pandas as pd\n",
    "import seaborn as sns\n",
    "import scipy.stats as stats\n",
    "import matplotlib.pyplot as plt"
   ]
  },
  {
   "cell_type": "code",
   "execution_count": null,
   "id": "bef8c648",
   "metadata": {},
   "outputs": [],
   "source": [
    "import glob \n"
   ]
  }
 ],
 "metadata": {
  "kernelspec": {
   "display_name": "Python (dojo-env)",
   "language": "python",
   "name": "dojo-env"
  },
  "language_info": {
   "codemirror_mode": {
    "name": "ipython",
    "version": 3
   },
   "file_extension": ".py",
   "mimetype": "text/x-python",
   "name": "python",
   "nbconvert_exporter": "python",
   "pygments_lexer": "ipython3",
   "version": "3.9.15"
  },
  "toc": {
   "base_numbering": 1,
   "nav_menu": {},
   "number_sections": true,
   "sideBar": true,
   "skip_h1_title": false,
   "title_cell": "Table of Contents",
   "title_sidebar": "Contents",
   "toc_cell": false,
   "toc_position": {},
   "toc_section_display": true,
   "toc_window_display": false
  }
 },
 "nbformat": 4,
 "nbformat_minor": 5
}
