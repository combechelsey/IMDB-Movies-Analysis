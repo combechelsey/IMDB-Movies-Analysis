{
 "cells": [
  {
   "cell_type": "code",
   "execution_count": 1,
   "id": "5f994f55",
   "metadata": {},
   "outputs": [],
   "source": [
    "import pandas as pd\n",
    "import numpy as np\n",
    "import os, time,json\n",
    "import tmdbsimple as tmdb\n",
    "from tqdm.notebook import tqdm_notebook\n",
    "import matplotlib.pyplot as plt\n",
    "import seaborn as sns\n",
    "import matplotlib as mpl\n",
    "\n",
    "import warnings\n",
    "warnings.filterwarnings('ignore')"
   ]
  },
  {
   "cell_type": "code",
   "execution_count": 2,
   "id": "ead81643",
   "metadata": {
    "scrolled": true
   },
   "outputs": [
    {
     "name": "stdout",
     "output_type": "stream",
     "text": [
      "Requirement already satisfied: pandas in c:\\users\\admin\\anaconda3\\envs\\dojo-env\\lib\\site-packages (2.1.0)\n",
      "Requirement already satisfied: python-dateutil>=2.8.2 in c:\\users\\admin\\anaconda3\\envs\\dojo-env\\lib\\site-packages (from pandas) (2.8.2)\n",
      "Requirement already satisfied: pytz>=2020.1 in c:\\users\\admin\\anaconda3\\envs\\dojo-env\\lib\\site-packages (from pandas) (2023.3)\n",
      "Requirement already satisfied: numpy>=1.22.4 in c:\\users\\admin\\anaconda3\\envs\\dojo-env\\lib\\site-packages (from pandas) (1.23.4)\n",
      "Requirement already satisfied: tzdata>=2022.1 in c:\\users\\admin\\anaconda3\\envs\\dojo-env\\lib\\site-packages (from pandas) (2022.7)\n",
      "Requirement already satisfied: six>=1.5 in c:\\users\\admin\\anaconda3\\envs\\dojo-env\\lib\\site-packages (from python-dateutil>=2.8.2->pandas) (1.16.0)\n",
      "Note: you may need to restart the kernel to use updated packages.\n"
     ]
    }
   ],
   "source": [
    "pip install --upgrade pandas"
   ]
  },
  {
   "cell_type": "code",
   "execution_count": 3,
   "id": "0a97de63",
   "metadata": {
    "scrolled": true
   },
   "outputs": [
    {
     "data": {
      "text/plain": [
       "['.ipynb_checkpoints',\n",
       " 'basics_compressed.csv.gz',\n",
       " 'basics_compressed_cleaned.csv.gz',\n",
       " 'ratings_compressed.csv.gz',\n",
       " 'ratings_compressed_cleaned.csv.gz',\n",
       " 'title-akas-us-only.csv',\n",
       " 'title.basics (1).tsv.gz',\n",
       " 'title.ratings (1).tsv.gz']"
      ]
     },
     "execution_count": 3,
     "metadata": {},
     "output_type": "execute_result"
    }
   ],
   "source": [
    "# example making new folder with os\n",
    "os.makedirs('Data/',exist_ok=True) # Confirm folder created\n",
    "os.listdir(\"Data/\")"
   ]
  },
  {
   "cell_type": "markdown",
   "id": "27deab7c",
   "metadata": {},
   "source": [
    "# Load Data"
   ]
  },
  {
   "cell_type": "code",
   "execution_count": 4,
   "id": "dd43f97a",
   "metadata": {},
   "outputs": [],
   "source": [
    "#Import title basics dataset\n",
    "basics_url = 'https://datasets.imdbws.com/title.basics.tsv.gz'\n",
    "\n",
    "basics = pd.read_csv(basics_url, sep='\\t', low_memory=False)\n"
   ]
  },
  {
   "cell_type": "code",
   "execution_count": 5,
   "id": "4e4ecc7c",
   "metadata": {},
   "outputs": [],
   "source": [
    "# Import akas dataset\n",
    "akas_url = r\"C:\\Users\\admin\\Documents\\GitHub\\IMDB-Movies-Analysis\\Data\\title-akas-us-only.csv\"\n",
    "\n",
    "\n",
    "akas = pd.read_csv(akas_url, low_memory= False)"
   ]
  },
  {
   "cell_type": "code",
   "execution_count": 6,
   "id": "f5aa817d",
   "metadata": {},
   "outputs": [],
   "source": [
    "# Import ratings dataset\n",
    "ratings_url = \"https://datasets.imdbws.com/title.ratings.tsv.gz\"\n",
    "\n",
    "ratings = pd.read_csv(ratings_url, sep=\"\\t\", low_memory= False)"
   ]
  },
  {
   "cell_type": "code",
   "execution_count": 8,
   "id": "9c201aae",
   "metadata": {},
   "outputs": [],
   "source": [
    "# Create a copy of each dataset\n",
    "basics2 = basics.copy()\n",
    "akas2 = akas.copy()\n",
    "ratings2 = ratings.copy()\n"
   ]
  },
  {
   "cell_type": "markdown",
   "id": "c596a431",
   "metadata": {},
   "source": [
    "# Explore Data"
   ]
  },
  {
   "cell_type": "code",
   "execution_count": 9,
   "id": "8734a349",
   "metadata": {},
   "outputs": [
    {
     "data": {
      "text/html": [
       "<div>\n",
       "<style scoped>\n",
       "    .dataframe tbody tr th:only-of-type {\n",
       "        vertical-align: middle;\n",
       "    }\n",
       "\n",
       "    .dataframe tbody tr th {\n",
       "        vertical-align: top;\n",
       "    }\n",
       "\n",
       "    .dataframe thead th {\n",
       "        text-align: right;\n",
       "    }\n",
       "</style>\n",
       "<table border=\"1\" class=\"dataframe\">\n",
       "  <thead>\n",
       "    <tr style=\"text-align: right;\">\n",
       "      <th></th>\n",
       "      <th>tconst</th>\n",
       "      <th>titleType</th>\n",
       "      <th>primaryTitle</th>\n",
       "      <th>originalTitle</th>\n",
       "      <th>isAdult</th>\n",
       "      <th>startYear</th>\n",
       "      <th>endYear</th>\n",
       "      <th>runtimeMinutes</th>\n",
       "      <th>genres</th>\n",
       "    </tr>\n",
       "  </thead>\n",
       "  <tbody>\n",
       "    <tr>\n",
       "      <th>0</th>\n",
       "      <td>tt0000001</td>\n",
       "      <td>short</td>\n",
       "      <td>Carmencita</td>\n",
       "      <td>Carmencita</td>\n",
       "      <td>0</td>\n",
       "      <td>1894</td>\n",
       "      <td>\\N</td>\n",
       "      <td>1</td>\n",
       "      <td>Documentary,Short</td>\n",
       "    </tr>\n",
       "    <tr>\n",
       "      <th>1</th>\n",
       "      <td>tt0000002</td>\n",
       "      <td>short</td>\n",
       "      <td>Le clown et ses chiens</td>\n",
       "      <td>Le clown et ses chiens</td>\n",
       "      <td>0</td>\n",
       "      <td>1892</td>\n",
       "      <td>\\N</td>\n",
       "      <td>5</td>\n",
       "      <td>Animation,Short</td>\n",
       "    </tr>\n",
       "    <tr>\n",
       "      <th>2</th>\n",
       "      <td>tt0000003</td>\n",
       "      <td>short</td>\n",
       "      <td>Pauvre Pierrot</td>\n",
       "      <td>Pauvre Pierrot</td>\n",
       "      <td>0</td>\n",
       "      <td>1892</td>\n",
       "      <td>\\N</td>\n",
       "      <td>4</td>\n",
       "      <td>Animation,Comedy,Romance</td>\n",
       "    </tr>\n",
       "    <tr>\n",
       "      <th>3</th>\n",
       "      <td>tt0000004</td>\n",
       "      <td>short</td>\n",
       "      <td>Un bon bock</td>\n",
       "      <td>Un bon bock</td>\n",
       "      <td>0</td>\n",
       "      <td>1892</td>\n",
       "      <td>\\N</td>\n",
       "      <td>12</td>\n",
       "      <td>Animation,Short</td>\n",
       "    </tr>\n",
       "    <tr>\n",
       "      <th>4</th>\n",
       "      <td>tt0000005</td>\n",
       "      <td>short</td>\n",
       "      <td>Blacksmith Scene</td>\n",
       "      <td>Blacksmith Scene</td>\n",
       "      <td>0</td>\n",
       "      <td>1893</td>\n",
       "      <td>\\N</td>\n",
       "      <td>1</td>\n",
       "      <td>Comedy,Short</td>\n",
       "    </tr>\n",
       "    <tr>\n",
       "      <th>5</th>\n",
       "      <td>tt0000006</td>\n",
       "      <td>short</td>\n",
       "      <td>Chinese Opium Den</td>\n",
       "      <td>Chinese Opium Den</td>\n",
       "      <td>0</td>\n",
       "      <td>1894</td>\n",
       "      <td>\\N</td>\n",
       "      <td>1</td>\n",
       "      <td>Short</td>\n",
       "    </tr>\n",
       "    <tr>\n",
       "      <th>6</th>\n",
       "      <td>tt0000007</td>\n",
       "      <td>short</td>\n",
       "      <td>Corbett and Courtney Before the Kinetograph</td>\n",
       "      <td>Corbett and Courtney Before the Kinetograph</td>\n",
       "      <td>0</td>\n",
       "      <td>1894</td>\n",
       "      <td>\\N</td>\n",
       "      <td>1</td>\n",
       "      <td>Short,Sport</td>\n",
       "    </tr>\n",
       "    <tr>\n",
       "      <th>7</th>\n",
       "      <td>tt0000008</td>\n",
       "      <td>short</td>\n",
       "      <td>Edison Kinetoscopic Record of a Sneeze</td>\n",
       "      <td>Edison Kinetoscopic Record of a Sneeze</td>\n",
       "      <td>0</td>\n",
       "      <td>1894</td>\n",
       "      <td>\\N</td>\n",
       "      <td>1</td>\n",
       "      <td>Documentary,Short</td>\n",
       "    </tr>\n",
       "    <tr>\n",
       "      <th>8</th>\n",
       "      <td>tt0000009</td>\n",
       "      <td>movie</td>\n",
       "      <td>Miss Jerry</td>\n",
       "      <td>Miss Jerry</td>\n",
       "      <td>0</td>\n",
       "      <td>1894</td>\n",
       "      <td>\\N</td>\n",
       "      <td>45</td>\n",
       "      <td>Romance</td>\n",
       "    </tr>\n",
       "    <tr>\n",
       "      <th>9</th>\n",
       "      <td>tt0000010</td>\n",
       "      <td>short</td>\n",
       "      <td>Leaving the Factory</td>\n",
       "      <td>La sortie de l'usine Lumière à Lyon</td>\n",
       "      <td>0</td>\n",
       "      <td>1895</td>\n",
       "      <td>\\N</td>\n",
       "      <td>1</td>\n",
       "      <td>Documentary,Short</td>\n",
       "    </tr>\n",
       "    <tr>\n",
       "      <th>10</th>\n",
       "      <td>tt0000011</td>\n",
       "      <td>short</td>\n",
       "      <td>Akrobatisches Potpourri</td>\n",
       "      <td>Akrobatisches Potpourri</td>\n",
       "      <td>0</td>\n",
       "      <td>1895</td>\n",
       "      <td>\\N</td>\n",
       "      <td>1</td>\n",
       "      <td>Documentary,Short</td>\n",
       "    </tr>\n",
       "    <tr>\n",
       "      <th>11</th>\n",
       "      <td>tt0000012</td>\n",
       "      <td>short</td>\n",
       "      <td>The Arrival of a Train</td>\n",
       "      <td>L'arrivée d'un train à La Ciotat</td>\n",
       "      <td>0</td>\n",
       "      <td>1896</td>\n",
       "      <td>\\N</td>\n",
       "      <td>1</td>\n",
       "      <td>Documentary,Short</td>\n",
       "    </tr>\n",
       "    <tr>\n",
       "      <th>12</th>\n",
       "      <td>tt0000013</td>\n",
       "      <td>short</td>\n",
       "      <td>The Photographical Congress Arrives in Lyon</td>\n",
       "      <td>Le débarquement du congrès de photographie à Lyon</td>\n",
       "      <td>0</td>\n",
       "      <td>1895</td>\n",
       "      <td>\\N</td>\n",
       "      <td>1</td>\n",
       "      <td>Documentary,Short</td>\n",
       "    </tr>\n",
       "    <tr>\n",
       "      <th>13</th>\n",
       "      <td>tt0000014</td>\n",
       "      <td>short</td>\n",
       "      <td>The Waterer Watered</td>\n",
       "      <td>L'arroseur arrosé</td>\n",
       "      <td>0</td>\n",
       "      <td>1895</td>\n",
       "      <td>\\N</td>\n",
       "      <td>1</td>\n",
       "      <td>Comedy,Short</td>\n",
       "    </tr>\n",
       "    <tr>\n",
       "      <th>14</th>\n",
       "      <td>tt0000015</td>\n",
       "      <td>short</td>\n",
       "      <td>Autour d'une cabine</td>\n",
       "      <td>Autour d'une cabine</td>\n",
       "      <td>0</td>\n",
       "      <td>1894</td>\n",
       "      <td>\\N</td>\n",
       "      <td>2</td>\n",
       "      <td>Animation,Short</td>\n",
       "    </tr>\n",
       "  </tbody>\n",
       "</table>\n",
       "</div>"
      ],
      "text/plain": [
       "       tconst titleType                                 primaryTitle  \\\n",
       "0   tt0000001     short                                   Carmencita   \n",
       "1   tt0000002     short                       Le clown et ses chiens   \n",
       "2   tt0000003     short                               Pauvre Pierrot   \n",
       "3   tt0000004     short                                  Un bon bock   \n",
       "4   tt0000005     short                             Blacksmith Scene   \n",
       "5   tt0000006     short                            Chinese Opium Den   \n",
       "6   tt0000007     short  Corbett and Courtney Before the Kinetograph   \n",
       "7   tt0000008     short       Edison Kinetoscopic Record of a Sneeze   \n",
       "8   tt0000009     movie                                   Miss Jerry   \n",
       "9   tt0000010     short                          Leaving the Factory   \n",
       "10  tt0000011     short                      Akrobatisches Potpourri   \n",
       "11  tt0000012     short                       The Arrival of a Train   \n",
       "12  tt0000013     short  The Photographical Congress Arrives in Lyon   \n",
       "13  tt0000014     short                          The Waterer Watered   \n",
       "14  tt0000015     short                          Autour d'une cabine   \n",
       "\n",
       "                                        originalTitle isAdult startYear  \\\n",
       "0                                          Carmencita       0      1894   \n",
       "1                              Le clown et ses chiens       0      1892   \n",
       "2                                      Pauvre Pierrot       0      1892   \n",
       "3                                         Un bon bock       0      1892   \n",
       "4                                    Blacksmith Scene       0      1893   \n",
       "5                                   Chinese Opium Den       0      1894   \n",
       "6         Corbett and Courtney Before the Kinetograph       0      1894   \n",
       "7              Edison Kinetoscopic Record of a Sneeze       0      1894   \n",
       "8                                          Miss Jerry       0      1894   \n",
       "9                 La sortie de l'usine Lumière à Lyon       0      1895   \n",
       "10                            Akrobatisches Potpourri       0      1895   \n",
       "11                   L'arrivée d'un train à La Ciotat       0      1896   \n",
       "12  Le débarquement du congrès de photographie à Lyon       0      1895   \n",
       "13                                  L'arroseur arrosé       0      1895   \n",
       "14                                Autour d'une cabine       0      1894   \n",
       "\n",
       "   endYear runtimeMinutes                    genres  \n",
       "0       \\N              1         Documentary,Short  \n",
       "1       \\N              5           Animation,Short  \n",
       "2       \\N              4  Animation,Comedy,Romance  \n",
       "3       \\N             12           Animation,Short  \n",
       "4       \\N              1              Comedy,Short  \n",
       "5       \\N              1                     Short  \n",
       "6       \\N              1               Short,Sport  \n",
       "7       \\N              1         Documentary,Short  \n",
       "8       \\N             45                   Romance  \n",
       "9       \\N              1         Documentary,Short  \n",
       "10      \\N              1         Documentary,Short  \n",
       "11      \\N              1         Documentary,Short  \n",
       "12      \\N              1         Documentary,Short  \n",
       "13      \\N              1              Comedy,Short  \n",
       "14      \\N              2           Animation,Short  "
      ]
     },
     "execution_count": 9,
     "metadata": {},
     "output_type": "execute_result"
    }
   ],
   "source": [
    "basics.head(15)"
   ]
  },
  {
   "cell_type": "code",
   "execution_count": 10,
   "id": "6e1d3a3f",
   "metadata": {},
   "outputs": [
    {
     "data": {
      "text/html": [
       "<div>\n",
       "<style scoped>\n",
       "    .dataframe tbody tr th:only-of-type {\n",
       "        vertical-align: middle;\n",
       "    }\n",
       "\n",
       "    .dataframe tbody tr th {\n",
       "        vertical-align: top;\n",
       "    }\n",
       "\n",
       "    .dataframe thead th {\n",
       "        text-align: right;\n",
       "    }\n",
       "</style>\n",
       "<table border=\"1\" class=\"dataframe\">\n",
       "  <thead>\n",
       "    <tr style=\"text-align: right;\">\n",
       "      <th></th>\n",
       "      <th>tconst</th>\n",
       "      <th>averageRating</th>\n",
       "      <th>numVotes</th>\n",
       "    </tr>\n",
       "  </thead>\n",
       "  <tbody>\n",
       "    <tr>\n",
       "      <th>0</th>\n",
       "      <td>tt0000001</td>\n",
       "      <td>5.7</td>\n",
       "      <td>1990</td>\n",
       "    </tr>\n",
       "    <tr>\n",
       "      <th>1</th>\n",
       "      <td>tt0000002</td>\n",
       "      <td>5.8</td>\n",
       "      <td>265</td>\n",
       "    </tr>\n",
       "    <tr>\n",
       "      <th>2</th>\n",
       "      <td>tt0000003</td>\n",
       "      <td>6.5</td>\n",
       "      <td>1868</td>\n",
       "    </tr>\n",
       "    <tr>\n",
       "      <th>3</th>\n",
       "      <td>tt0000004</td>\n",
       "      <td>5.5</td>\n",
       "      <td>177</td>\n",
       "    </tr>\n",
       "    <tr>\n",
       "      <th>4</th>\n",
       "      <td>tt0000005</td>\n",
       "      <td>6.2</td>\n",
       "      <td>2655</td>\n",
       "    </tr>\n",
       "    <tr>\n",
       "      <th>5</th>\n",
       "      <td>tt0000006</td>\n",
       "      <td>5.0</td>\n",
       "      <td>182</td>\n",
       "    </tr>\n",
       "    <tr>\n",
       "      <th>6</th>\n",
       "      <td>tt0000007</td>\n",
       "      <td>5.4</td>\n",
       "      <td>830</td>\n",
       "    </tr>\n",
       "    <tr>\n",
       "      <th>7</th>\n",
       "      <td>tt0000008</td>\n",
       "      <td>5.4</td>\n",
       "      <td>2132</td>\n",
       "    </tr>\n",
       "    <tr>\n",
       "      <th>8</th>\n",
       "      <td>tt0000009</td>\n",
       "      <td>5.3</td>\n",
       "      <td>206</td>\n",
       "    </tr>\n",
       "    <tr>\n",
       "      <th>9</th>\n",
       "      <td>tt0000010</td>\n",
       "      <td>6.9</td>\n",
       "      <td>7265</td>\n",
       "    </tr>\n",
       "    <tr>\n",
       "      <th>10</th>\n",
       "      <td>tt0000011</td>\n",
       "      <td>5.2</td>\n",
       "      <td>370</td>\n",
       "    </tr>\n",
       "    <tr>\n",
       "      <th>11</th>\n",
       "      <td>tt0000012</td>\n",
       "      <td>7.4</td>\n",
       "      <td>12407</td>\n",
       "    </tr>\n",
       "    <tr>\n",
       "      <th>12</th>\n",
       "      <td>tt0000013</td>\n",
       "      <td>5.7</td>\n",
       "      <td>1900</td>\n",
       "    </tr>\n",
       "    <tr>\n",
       "      <th>13</th>\n",
       "      <td>tt0000014</td>\n",
       "      <td>7.1</td>\n",
       "      <td>5583</td>\n",
       "    </tr>\n",
       "    <tr>\n",
       "      <th>14</th>\n",
       "      <td>tt0000015</td>\n",
       "      <td>6.2</td>\n",
       "      <td>1105</td>\n",
       "    </tr>\n",
       "    <tr>\n",
       "      <th>15</th>\n",
       "      <td>tt0000016</td>\n",
       "      <td>5.9</td>\n",
       "      <td>1523</td>\n",
       "    </tr>\n",
       "    <tr>\n",
       "      <th>16</th>\n",
       "      <td>tt0000017</td>\n",
       "      <td>4.6</td>\n",
       "      <td>330</td>\n",
       "    </tr>\n",
       "    <tr>\n",
       "      <th>17</th>\n",
       "      <td>tt0000018</td>\n",
       "      <td>5.3</td>\n",
       "      <td>605</td>\n",
       "    </tr>\n",
       "    <tr>\n",
       "      <th>18</th>\n",
       "      <td>tt0000019</td>\n",
       "      <td>5.1</td>\n",
       "      <td>31</td>\n",
       "    </tr>\n",
       "    <tr>\n",
       "      <th>19</th>\n",
       "      <td>tt0000020</td>\n",
       "      <td>4.8</td>\n",
       "      <td>363</td>\n",
       "    </tr>\n",
       "    <tr>\n",
       "      <th>20</th>\n",
       "      <td>tt0000022</td>\n",
       "      <td>5.1</td>\n",
       "      <td>1105</td>\n",
       "    </tr>\n",
       "    <tr>\n",
       "      <th>21</th>\n",
       "      <td>tt0000023</td>\n",
       "      <td>5.7</td>\n",
       "      <td>1448</td>\n",
       "    </tr>\n",
       "    <tr>\n",
       "      <th>22</th>\n",
       "      <td>tt0000024</td>\n",
       "      <td>4.2</td>\n",
       "      <td>118</td>\n",
       "    </tr>\n",
       "    <tr>\n",
       "      <th>23</th>\n",
       "      <td>tt0000025</td>\n",
       "      <td>3.9</td>\n",
       "      <td>45</td>\n",
       "    </tr>\n",
       "    <tr>\n",
       "      <th>24</th>\n",
       "      <td>tt0000026</td>\n",
       "      <td>5.6</td>\n",
       "      <td>1555</td>\n",
       "    </tr>\n",
       "    <tr>\n",
       "      <th>25</th>\n",
       "      <td>tt0000027</td>\n",
       "      <td>5.6</td>\n",
       "      <td>1167</td>\n",
       "    </tr>\n",
       "    <tr>\n",
       "      <th>26</th>\n",
       "      <td>tt0000028</td>\n",
       "      <td>5.1</td>\n",
       "      <td>1094</td>\n",
       "    </tr>\n",
       "    <tr>\n",
       "      <th>27</th>\n",
       "      <td>tt0000029</td>\n",
       "      <td>5.9</td>\n",
       "      <td>3398</td>\n",
       "    </tr>\n",
       "    <tr>\n",
       "      <th>28</th>\n",
       "      <td>tt0000030</td>\n",
       "      <td>5.2</td>\n",
       "      <td>858</td>\n",
       "    </tr>\n",
       "    <tr>\n",
       "      <th>29</th>\n",
       "      <td>tt0000031</td>\n",
       "      <td>5.5</td>\n",
       "      <td>1012</td>\n",
       "    </tr>\n",
       "  </tbody>\n",
       "</table>\n",
       "</div>"
      ],
      "text/plain": [
       "       tconst  averageRating  numVotes\n",
       "0   tt0000001            5.7      1990\n",
       "1   tt0000002            5.8       265\n",
       "2   tt0000003            6.5      1868\n",
       "3   tt0000004            5.5       177\n",
       "4   tt0000005            6.2      2655\n",
       "5   tt0000006            5.0       182\n",
       "6   tt0000007            5.4       830\n",
       "7   tt0000008            5.4      2132\n",
       "8   tt0000009            5.3       206\n",
       "9   tt0000010            6.9      7265\n",
       "10  tt0000011            5.2       370\n",
       "11  tt0000012            7.4     12407\n",
       "12  tt0000013            5.7      1900\n",
       "13  tt0000014            7.1      5583\n",
       "14  tt0000015            6.2      1105\n",
       "15  tt0000016            5.9      1523\n",
       "16  tt0000017            4.6       330\n",
       "17  tt0000018            5.3       605\n",
       "18  tt0000019            5.1        31\n",
       "19  tt0000020            4.8       363\n",
       "20  tt0000022            5.1      1105\n",
       "21  tt0000023            5.7      1448\n",
       "22  tt0000024            4.2       118\n",
       "23  tt0000025            3.9        45\n",
       "24  tt0000026            5.6      1555\n",
       "25  tt0000027            5.6      1167\n",
       "26  tt0000028            5.1      1094\n",
       "27  tt0000029            5.9      3398\n",
       "28  tt0000030            5.2       858\n",
       "29  tt0000031            5.5      1012"
      ]
     },
     "execution_count": 10,
     "metadata": {},
     "output_type": "execute_result"
    }
   ],
   "source": [
    "ratings.head(30)"
   ]
  },
  {
   "cell_type": "code",
   "execution_count": 11,
   "id": "01a59156",
   "metadata": {
    "scrolled": true
   },
   "outputs": [
    {
     "data": {
      "text/html": [
       "<div>\n",
       "<style scoped>\n",
       "    .dataframe tbody tr th:only-of-type {\n",
       "        vertical-align: middle;\n",
       "    }\n",
       "\n",
       "    .dataframe tbody tr th {\n",
       "        vertical-align: top;\n",
       "    }\n",
       "\n",
       "    .dataframe thead th {\n",
       "        text-align: right;\n",
       "    }\n",
       "</style>\n",
       "<table border=\"1\" class=\"dataframe\">\n",
       "  <thead>\n",
       "    <tr style=\"text-align: right;\">\n",
       "      <th></th>\n",
       "      <th>titleId</th>\n",
       "      <th>ordering</th>\n",
       "      <th>title</th>\n",
       "      <th>region</th>\n",
       "      <th>language</th>\n",
       "      <th>types</th>\n",
       "      <th>attributes</th>\n",
       "      <th>isOriginalTitle</th>\n",
       "    </tr>\n",
       "  </thead>\n",
       "  <tbody>\n",
       "    <tr>\n",
       "      <th>0</th>\n",
       "      <td>tt0000001</td>\n",
       "      <td>6</td>\n",
       "      <td>Carmencita</td>\n",
       "      <td>US</td>\n",
       "      <td>\\N</td>\n",
       "      <td>imdbDisplay</td>\n",
       "      <td>\\N</td>\n",
       "      <td>0</td>\n",
       "    </tr>\n",
       "    <tr>\n",
       "      <th>1</th>\n",
       "      <td>tt0000002</td>\n",
       "      <td>7</td>\n",
       "      <td>The Clown and His Dogs</td>\n",
       "      <td>US</td>\n",
       "      <td>\\N</td>\n",
       "      <td>\\N</td>\n",
       "      <td>literal English title</td>\n",
       "      <td>0</td>\n",
       "    </tr>\n",
       "    <tr>\n",
       "      <th>2</th>\n",
       "      <td>tt0000005</td>\n",
       "      <td>10</td>\n",
       "      <td>Blacksmith Scene</td>\n",
       "      <td>US</td>\n",
       "      <td>\\N</td>\n",
       "      <td>imdbDisplay</td>\n",
       "      <td>\\N</td>\n",
       "      <td>0</td>\n",
       "    </tr>\n",
       "    <tr>\n",
       "      <th>3</th>\n",
       "      <td>tt0000005</td>\n",
       "      <td>1</td>\n",
       "      <td>Blacksmithing Scene</td>\n",
       "      <td>US</td>\n",
       "      <td>\\N</td>\n",
       "      <td>alternative</td>\n",
       "      <td>\\N</td>\n",
       "      <td>0</td>\n",
       "    </tr>\n",
       "    <tr>\n",
       "      <th>4</th>\n",
       "      <td>tt0000005</td>\n",
       "      <td>6</td>\n",
       "      <td>Blacksmith Scene #1</td>\n",
       "      <td>US</td>\n",
       "      <td>\\N</td>\n",
       "      <td>alternative</td>\n",
       "      <td>\\N</td>\n",
       "      <td>0</td>\n",
       "    </tr>\n",
       "    <tr>\n",
       "      <th>5</th>\n",
       "      <td>tt0000005</td>\n",
       "      <td>7</td>\n",
       "      <td>Blacksmithing</td>\n",
       "      <td>US</td>\n",
       "      <td>\\N</td>\n",
       "      <td>\\N</td>\n",
       "      <td>informal alternative title</td>\n",
       "      <td>0</td>\n",
       "    </tr>\n",
       "    <tr>\n",
       "      <th>6</th>\n",
       "      <td>tt0000006</td>\n",
       "      <td>3</td>\n",
       "      <td>Chinese Opium Den</td>\n",
       "      <td>US</td>\n",
       "      <td>\\N</td>\n",
       "      <td>imdbDisplay</td>\n",
       "      <td>\\N</td>\n",
       "      <td>0</td>\n",
       "    </tr>\n",
       "    <tr>\n",
       "      <th>7</th>\n",
       "      <td>tt0000007</td>\n",
       "      <td>1</td>\n",
       "      <td>Corbett and Courtney Before the Kinetograph</td>\n",
       "      <td>US</td>\n",
       "      <td>\\N</td>\n",
       "      <td>imdbDisplay</td>\n",
       "      <td>\\N</td>\n",
       "      <td>0</td>\n",
       "    </tr>\n",
       "    <tr>\n",
       "      <th>8</th>\n",
       "      <td>tt0000007</td>\n",
       "      <td>5</td>\n",
       "      <td>The Corbett-Courtney Fight</td>\n",
       "      <td>US</td>\n",
       "      <td>\\N</td>\n",
       "      <td>alternative</td>\n",
       "      <td>\\N</td>\n",
       "      <td>0</td>\n",
       "    </tr>\n",
       "    <tr>\n",
       "      <th>9</th>\n",
       "      <td>tt0000007</td>\n",
       "      <td>6</td>\n",
       "      <td>Jim Corbett vs. Peter Courtney</td>\n",
       "      <td>US</td>\n",
       "      <td>\\N</td>\n",
       "      <td>alternative</td>\n",
       "      <td>\\N</td>\n",
       "      <td>0</td>\n",
       "    </tr>\n",
       "    <tr>\n",
       "      <th>10</th>\n",
       "      <td>tt0000008</td>\n",
       "      <td>3</td>\n",
       "      <td>Edison Kinetoscopic Record of a Sneeze, Januar...</td>\n",
       "      <td>US</td>\n",
       "      <td>\\N</td>\n",
       "      <td>\\N</td>\n",
       "      <td>complete title</td>\n",
       "      <td>0</td>\n",
       "    </tr>\n",
       "    <tr>\n",
       "      <th>11</th>\n",
       "      <td>tt0000008</td>\n",
       "      <td>4</td>\n",
       "      <td>Edison Kinetoscopic Record of a Sneeze</td>\n",
       "      <td>US</td>\n",
       "      <td>\\N</td>\n",
       "      <td>imdbDisplay</td>\n",
       "      <td>\\N</td>\n",
       "      <td>0</td>\n",
       "    </tr>\n",
       "    <tr>\n",
       "      <th>12</th>\n",
       "      <td>tt0000008</td>\n",
       "      <td>8</td>\n",
       "      <td>The Films of Thomas A Edison presented by Raym...</td>\n",
       "      <td>US</td>\n",
       "      <td>\\N</td>\n",
       "      <td>\\N</td>\n",
       "      <td>reissue title</td>\n",
       "      <td>0</td>\n",
       "    </tr>\n",
       "    <tr>\n",
       "      <th>13</th>\n",
       "      <td>tt0000009</td>\n",
       "      <td>5</td>\n",
       "      <td>Miss Jerry</td>\n",
       "      <td>US</td>\n",
       "      <td>\\N</td>\n",
       "      <td>imdbDisplay</td>\n",
       "      <td>\\N</td>\n",
       "      <td>0</td>\n",
       "    </tr>\n",
       "    <tr>\n",
       "      <th>14</th>\n",
       "      <td>tt0000010</td>\n",
       "      <td>16</td>\n",
       "      <td>Exiting the Factory</td>\n",
       "      <td>US</td>\n",
       "      <td>\\N</td>\n",
       "      <td>imdbDisplay</td>\n",
       "      <td>\\N</td>\n",
       "      <td>0</td>\n",
       "    </tr>\n",
       "  </tbody>\n",
       "</table>\n",
       "</div>"
      ],
      "text/plain": [
       "      titleId  ordering                                              title  \\\n",
       "0   tt0000001         6                                         Carmencita   \n",
       "1   tt0000002         7                             The Clown and His Dogs   \n",
       "2   tt0000005        10                                   Blacksmith Scene   \n",
       "3   tt0000005         1                                Blacksmithing Scene   \n",
       "4   tt0000005         6                                Blacksmith Scene #1   \n",
       "5   tt0000005         7                                      Blacksmithing   \n",
       "6   tt0000006         3                                  Chinese Opium Den   \n",
       "7   tt0000007         1        Corbett and Courtney Before the Kinetograph   \n",
       "8   tt0000007         5                         The Corbett-Courtney Fight   \n",
       "9   tt0000007         6                     Jim Corbett vs. Peter Courtney   \n",
       "10  tt0000008         3  Edison Kinetoscopic Record of a Sneeze, Januar...   \n",
       "11  tt0000008         4             Edison Kinetoscopic Record of a Sneeze   \n",
       "12  tt0000008         8  The Films of Thomas A Edison presented by Raym...   \n",
       "13  tt0000009         5                                         Miss Jerry   \n",
       "14  tt0000010        16                                Exiting the Factory   \n",
       "\n",
       "   region language        types                  attributes isOriginalTitle  \n",
       "0      US       \\N  imdbDisplay                          \\N               0  \n",
       "1      US       \\N           \\N       literal English title               0  \n",
       "2      US       \\N  imdbDisplay                          \\N               0  \n",
       "3      US       \\N  alternative                          \\N               0  \n",
       "4      US       \\N  alternative                          \\N               0  \n",
       "5      US       \\N           \\N  informal alternative title               0  \n",
       "6      US       \\N  imdbDisplay                          \\N               0  \n",
       "7      US       \\N  imdbDisplay                          \\N               0  \n",
       "8      US       \\N  alternative                          \\N               0  \n",
       "9      US       \\N  alternative                          \\N               0  \n",
       "10     US       \\N           \\N              complete title               0  \n",
       "11     US       \\N  imdbDisplay                          \\N               0  \n",
       "12     US       \\N           \\N               reissue title               0  \n",
       "13     US       \\N  imdbDisplay                          \\N               0  \n",
       "14     US       \\N  imdbDisplay                          \\N               0  "
      ]
     },
     "execution_count": 11,
     "metadata": {},
     "output_type": "execute_result"
    }
   ],
   "source": [
    "akas.head(15)"
   ]
  },
  {
   "cell_type": "code",
   "execution_count": 12,
   "id": "5c62dcad",
   "metadata": {},
   "outputs": [
    {
     "name": "stdout",
     "output_type": "stream",
     "text": [
      "<class 'pandas.core.frame.DataFrame'>\n",
      "RangeIndex: 10125398 entries, 0 to 10125397\n",
      "Data columns (total 9 columns):\n",
      " #   Column          Dtype \n",
      "---  ------          ----- \n",
      " 0   tconst          object\n",
      " 1   titleType       object\n",
      " 2   primaryTitle    object\n",
      " 3   originalTitle   object\n",
      " 4   isAdult         object\n",
      " 5   startYear       object\n",
      " 6   endYear         object\n",
      " 7   runtimeMinutes  object\n",
      " 8   genres          object\n",
      "dtypes: object(9)\n",
      "memory usage: 695.3+ MB\n"
     ]
    }
   ],
   "source": [
    "basics.info()"
   ]
  },
  {
   "cell_type": "code",
   "execution_count": 13,
   "id": "04aa953e",
   "metadata": {},
   "outputs": [
    {
     "name": "stdout",
     "output_type": "stream",
     "text": [
      "<class 'pandas.core.frame.DataFrame'>\n",
      "RangeIndex: 1452564 entries, 0 to 1452563\n",
      "Data columns (total 8 columns):\n",
      " #   Column           Non-Null Count    Dtype \n",
      "---  ------           --------------    ----- \n",
      " 0   titleId          1452564 non-null  object\n",
      " 1   ordering         1452564 non-null  int64 \n",
      " 2   title            1452562 non-null  object\n",
      " 3   region           1452564 non-null  object\n",
      " 4   language         1452564 non-null  object\n",
      " 5   types            1452564 non-null  object\n",
      " 6   attributes       1452564 non-null  object\n",
      " 7   isOriginalTitle  1452564 non-null  object\n",
      "dtypes: int64(1), object(7)\n",
      "memory usage: 88.7+ MB\n"
     ]
    }
   ],
   "source": [
    "akas.info()"
   ]
  },
  {
   "cell_type": "code",
   "execution_count": 14,
   "id": "c004ff8b",
   "metadata": {
    "scrolled": true
   },
   "outputs": [
    {
     "name": "stdout",
     "output_type": "stream",
     "text": [
      "<class 'pandas.core.frame.DataFrame'>\n",
      "RangeIndex: 1344397 entries, 0 to 1344396\n",
      "Data columns (total 3 columns):\n",
      " #   Column         Non-Null Count    Dtype  \n",
      "---  ------         --------------    -----  \n",
      " 0   tconst         1344397 non-null  object \n",
      " 1   averageRating  1344397 non-null  float64\n",
      " 2   numVotes       1344397 non-null  int64  \n",
      "dtypes: float64(1), int64(1), object(1)\n",
      "memory usage: 30.8+ MB\n"
     ]
    }
   ],
   "source": [
    "ratings.info()"
   ]
  },
  {
   "cell_type": "markdown",
   "id": "6fec8135",
   "metadata": {},
   "source": [
    "# Preprocessing Data for Analysis"
   ]
  },
  {
   "cell_type": "code",
   "execution_count": 15,
   "id": "979a91bd",
   "metadata": {},
   "outputs": [],
   "source": [
    "# Replace \"\\N\" with np.nan\n",
    "akas.replace(\"\\\\N\", np.nan, inplace=True)\n",
    "basics.replace(\"\\\\N\", np.nan, inplace=True)\n",
    "ratings.replace(\"\\\\N\", np.nan, inplace=True)"
   ]
  },
  {
   "cell_type": "code",
   "execution_count": 16,
   "id": "5a570771",
   "metadata": {
    "scrolled": true
   },
   "outputs": [
    {
     "data": {
      "text/plain": [
       "3326324"
      ]
     },
     "execution_count": 16,
     "metadata": {},
     "output_type": "execute_result"
    }
   ],
   "source": [
    "# View null values for akas\n",
    "akas.isna().sum().sum()"
   ]
  },
  {
   "cell_type": "code",
   "execution_count": 17,
   "id": "81beb368",
   "metadata": {},
   "outputs": [
    {
     "data": {
      "text/plain": [
       "titleId                  0\n",
       "ordering                 0\n",
       "title                    2\n",
       "region                   0\n",
       "language           1448546\n",
       "types               470886\n",
       "attributes         1405548\n",
       "isOriginalTitle       1342\n",
       "dtype: int64"
      ]
     },
     "execution_count": 17,
     "metadata": {},
     "output_type": "execute_result"
    }
   ],
   "source": [
    "# View columns with null values\n",
    "akas.isna().sum()"
   ]
  },
  {
   "cell_type": "code",
   "execution_count": 18,
   "id": "ca76b0f4",
   "metadata": {
    "scrolled": true
   },
   "outputs": [
    {
     "data": {
      "text/plain": [
       "18924719"
      ]
     },
     "execution_count": 18,
     "metadata": {},
     "output_type": "execute_result"
    }
   ],
   "source": [
    "# View null values for basics\n",
    "basics.isna().sum().sum()"
   ]
  },
  {
   "cell_type": "code",
   "execution_count": 19,
   "id": "b7f9c918",
   "metadata": {},
   "outputs": [
    {
     "data": {
      "text/plain": [
       "tconst                   0\n",
       "titleType                0\n",
       "primaryTitle            17\n",
       "originalTitle           17\n",
       "isAdult                  1\n",
       "startYear          1360165\n",
       "endYear           10013536\n",
       "runtimeMinutes     7095152\n",
       "genres              455831\n",
       "dtype: int64"
      ]
     },
     "execution_count": 19,
     "metadata": {},
     "output_type": "execute_result"
    }
   ],
   "source": [
    "# View columns with null values\n",
    "basics.isna().sum()"
   ]
  },
  {
   "cell_type": "code",
   "execution_count": 21,
   "id": "ac9289e2",
   "metadata": {},
   "outputs": [
    {
     "data": {
      "text/plain": [
       "0"
      ]
     },
     "execution_count": 21,
     "metadata": {},
     "output_type": "execute_result"
    }
   ],
   "source": [
    "# View null values for ratings\n",
    "ratings.isna().sum().sum()"
   ]
  },
  {
   "cell_type": "code",
   "execution_count": 22,
   "id": "4335e05e",
   "metadata": {},
   "outputs": [
    {
     "data": {
      "text/plain": [
       "tconst           0\n",
       "averageRating    0\n",
       "numVotes         0\n",
       "dtype: int64"
      ]
     },
     "execution_count": 22,
     "metadata": {},
     "output_type": "execute_result"
    }
   ],
   "source": [
    "# View columns with null values\n",
    "ratings.isna().sum()"
   ]
  },
  {
   "cell_type": "code",
   "execution_count": 23,
   "id": "a488cb82",
   "metadata": {
    "scrolled": true
   },
   "outputs": [
    {
     "data": {
      "text/plain": [
       "0            True\n",
       "1            True\n",
       "2           False\n",
       "3           False\n",
       "4            True\n",
       "            ...  \n",
       "10125393    False\n",
       "10125394    False\n",
       "10125395    False\n",
       "10125396    False\n",
       "10125397    False\n",
       "Name: tconst, Length: 10125398, dtype: bool"
      ]
     },
     "execution_count": 23,
     "metadata": {},
     "output_type": "execute_result"
    }
   ],
   "source": [
    "# Filter the basics table down to only include the US by using the filter akas dataframe\n",
    "keepers = basics['tconst'].isin(akas['titleId'])\n",
    "keepers"
   ]
  },
  {
   "cell_type": "code",
   "execution_count": 24,
   "id": "38e70c6c",
   "metadata": {},
   "outputs": [],
   "source": [
    "# Filter the basics DataFrame to keep only titles also listed in the US filtered akas\n",
    "basics = basics[keepers]"
   ]
  },
  {
   "cell_type": "code",
   "execution_count": 25,
   "id": "492b779c",
   "metadata": {},
   "outputs": [
    {
     "name": "stdout",
     "output_type": "stream",
     "text": [
      "<class 'pandas.core.frame.DataFrame'>\n",
      "Index: 1365255 entries, 0 to 10125353\n",
      "Data columns (total 9 columns):\n",
      " #   Column          Non-Null Count    Dtype \n",
      "---  ------          --------------    ----- \n",
      " 0   tconst          1365255 non-null  object\n",
      " 1   titleType       1365255 non-null  object\n",
      " 2   primaryTitle    1365253 non-null  object\n",
      " 3   originalTitle   1365253 non-null  object\n",
      " 4   isAdult         1365255 non-null  object\n",
      " 5   startYear       1267566 non-null  object\n",
      " 6   endYear         37423 non-null    object\n",
      " 7   runtimeMinutes  863498 non-null   object\n",
      " 8   genres          1336849 non-null  object\n",
      "dtypes: object(9)\n",
      "memory usage: 104.2+ MB\n"
     ]
    }
   ],
   "source": [
    "# View change in basics dataset\n",
    "basics.info()"
   ]
  },
  {
   "cell_type": "code",
   "execution_count": 26,
   "id": "4fcba16e",
   "metadata": {},
   "outputs": [],
   "source": [
    "# Drop NAs in runtimeMinutes, genres, startYear columns\n",
    "basics = basics.dropna(subset=['runtimeMinutes', 'genres', 'startYear'])"
   ]
  },
  {
   "cell_type": "code",
   "execution_count": 27,
   "id": "6d339173",
   "metadata": {},
   "outputs": [
    {
     "name": "stdout",
     "output_type": "stream",
     "text": [
      "<class 'pandas.core.frame.DataFrame'>\n",
      "Index: 845768 entries, 0 to 10125259\n",
      "Data columns (total 9 columns):\n",
      " #   Column          Non-Null Count   Dtype \n",
      "---  ------          --------------   ----- \n",
      " 0   tconst          845768 non-null  object\n",
      " 1   titleType       845768 non-null  object\n",
      " 2   primaryTitle    845767 non-null  object\n",
      " 3   originalTitle   845767 non-null  object\n",
      " 4   isAdult         845768 non-null  object\n",
      " 5   startYear       845768 non-null  object\n",
      " 6   endYear         20432 non-null   object\n",
      " 7   runtimeMinutes  845768 non-null  object\n",
      " 8   genres          845768 non-null  object\n",
      "dtypes: object(9)\n",
      "memory usage: 64.5+ MB\n"
     ]
    }
   ],
   "source": [
    "basics.info()"
   ]
  },
  {
   "cell_type": "code",
   "execution_count": 28,
   "id": "c62a8f6d",
   "metadata": {},
   "outputs": [],
   "source": [
    "#Keep only movies where titleType==Movie\n",
    "basics = basics.loc[basics['titleType'] == 'movie']"
   ]
  },
  {
   "cell_type": "code",
   "execution_count": 29,
   "id": "1c352662",
   "metadata": {},
   "outputs": [
    {
     "name": "stdout",
     "output_type": "stream",
     "text": [
      "<class 'pandas.core.frame.DataFrame'>\n",
      "Index: 200301 entries, 8 to 10125164\n",
      "Data columns (total 9 columns):\n",
      " #   Column          Non-Null Count   Dtype \n",
      "---  ------          --------------   ----- \n",
      " 0   tconst          200301 non-null  object\n",
      " 1   titleType       200301 non-null  object\n",
      " 2   primaryTitle    200300 non-null  object\n",
      " 3   originalTitle   200300 non-null  object\n",
      " 4   isAdult         200301 non-null  object\n",
      " 5   startYear       200301 non-null  object\n",
      " 6   endYear         0 non-null       object\n",
      " 7   runtimeMinutes  200301 non-null  object\n",
      " 8   genres          200301 non-null  object\n",
      "dtypes: object(9)\n",
      "memory usage: 15.3+ MB\n"
     ]
    }
   ],
   "source": [
    "basics.info()"
   ]
  },
  {
   "cell_type": "code",
   "execution_count": 30,
   "id": "f4b242c9",
   "metadata": {},
   "outputs": [],
   "source": [
    "# Replace startYear '\\\\N' with NaN\n",
    "basics['startYear'] = pd.to_numeric(basics['startYear'], errors='coerce')\n"
   ]
  },
  {
   "cell_type": "code",
   "execution_count": 31,
   "id": "dd791b58",
   "metadata": {},
   "outputs": [],
   "source": [
    "#Convert the startYear column to float data type\n",
    "basics['startYear'] = basics['startYear'].astype(float)"
   ]
  },
  {
   "cell_type": "code",
   "execution_count": 32,
   "id": "db7d9ae0",
   "metadata": {},
   "outputs": [],
   "source": [
    "#Filter the dataframe using startYear. Keep years between 2000-2021\n",
    "basics = basics[basics[\"startYear\"]>= 2000]"
   ]
  },
  {
   "cell_type": "code",
   "execution_count": 33,
   "id": "f404649e",
   "metadata": {},
   "outputs": [],
   "source": [
    "#Filter the dataframe using startYear. Keep years between 2000-2021\n",
    "basics = basics[basics[\"startYear\"]<= 2021]"
   ]
  },
  {
   "cell_type": "code",
   "execution_count": 34,
   "id": "9e69a60f",
   "metadata": {},
   "outputs": [],
   "source": [
    "#Eliminate movies that include \"Documentary\" in the genre\n",
    "is_documentary = basics['genres'].str.contains('documentary',case=False)\n",
    "basics = basics[~is_documentary]\n"
   ]
  },
  {
   "cell_type": "code",
   "execution_count": 35,
   "id": "2dbc98fd",
   "metadata": {},
   "outputs": [
    {
     "name": "stdout",
     "output_type": "stream",
     "text": [
      "<class 'pandas.core.frame.DataFrame'>\n",
      "Index: 81882 entries, 34800 to 10125164\n",
      "Data columns (total 9 columns):\n",
      " #   Column          Non-Null Count  Dtype  \n",
      "---  ------          --------------  -----  \n",
      " 0   tconst          81882 non-null  object \n",
      " 1   titleType       81882 non-null  object \n",
      " 2   primaryTitle    81881 non-null  object \n",
      " 3   originalTitle   81881 non-null  object \n",
      " 4   isAdult         81882 non-null  object \n",
      " 5   startYear       81882 non-null  float64\n",
      " 6   endYear         0 non-null      object \n",
      " 7   runtimeMinutes  81882 non-null  object \n",
      " 8   genres          81882 non-null  object \n",
      "dtypes: float64(1), object(8)\n",
      "memory usage: 6.2+ MB\n"
     ]
    }
   ],
   "source": [
    "basics.info()\n"
   ]
  },
  {
   "cell_type": "code",
   "execution_count": 36,
   "id": "b45301bf",
   "metadata": {},
   "outputs": [
    {
     "data": {
      "text/plain": [
       "0          False\n",
       "1          False\n",
       "2          False\n",
       "3          False\n",
       "4          False\n",
       "           ...  \n",
       "1344392    False\n",
       "1344393    False\n",
       "1344394    False\n",
       "1344395    False\n",
       "1344396    False\n",
       "Name: tconst, Length: 1344397, dtype: bool"
      ]
     },
     "execution_count": 36,
     "metadata": {},
     "output_type": "execute_result"
    }
   ],
   "source": [
    "# Include the US by using the filter akas dataframe\n",
    "ratings_keepers =ratings['tconst'].isin(basics['tconst'])\n",
    "ratings_keepers\n"
   ]
  },
  {
   "cell_type": "code",
   "execution_count": 38,
   "id": "cd30f214",
   "metadata": {},
   "outputs": [
    {
     "name": "stdout",
     "output_type": "stream",
     "text": [
      "<class 'pandas.core.frame.DataFrame'>\n",
      "Index: 68056 entries, 17893 to 1344368\n",
      "Data columns (total 3 columns):\n",
      " #   Column         Non-Null Count  Dtype  \n",
      "---  ------         --------------  -----  \n",
      " 0   tconst         68056 non-null  object \n",
      " 1   averageRating  68056 non-null  float64\n",
      " 2   numVotes       68056 non-null  int64  \n",
      "dtypes: float64(1), int64(1), object(1)\n",
      "memory usage: 2.1+ MB\n"
     ]
    }
   ],
   "source": [
    "# apply filter to ratings data\n",
    "ratings = ratings[ratings_keepers]\n",
    "\n",
    "ratings.info()"
   ]
  },
  {
   "cell_type": "markdown",
   "id": "93ca39a7",
   "metadata": {},
   "source": [
    "# Modified Datasets"
   ]
  },
  {
   "cell_type": "code",
   "execution_count": 39,
   "id": "ce21a77e",
   "metadata": {
    "scrolled": true
   },
   "outputs": [
    {
     "name": "stdout",
     "output_type": "stream",
     "text": [
      "<class 'pandas.core.frame.DataFrame'>\n",
      "Index: 81882 entries, 34800 to 10125164\n",
      "Data columns (total 9 columns):\n",
      " #   Column          Non-Null Count  Dtype  \n",
      "---  ------          --------------  -----  \n",
      " 0   tconst          81882 non-null  object \n",
      " 1   titleType       81882 non-null  object \n",
      " 2   primaryTitle    81881 non-null  object \n",
      " 3   originalTitle   81881 non-null  object \n",
      " 4   isAdult         81882 non-null  object \n",
      " 5   startYear       81882 non-null  float64\n",
      " 6   endYear         0 non-null      object \n",
      " 7   runtimeMinutes  81882 non-null  object \n",
      " 8   genres          81882 non-null  object \n",
      "dtypes: float64(1), object(8)\n",
      "memory usage: 6.2+ MB\n"
     ]
    }
   ],
   "source": [
    "# View modified basics dataset\n",
    "basics.info()"
   ]
  },
  {
   "cell_type": "code",
   "execution_count": 40,
   "id": "9e8c1045",
   "metadata": {},
   "outputs": [
    {
     "name": "stdout",
     "output_type": "stream",
     "text": [
      "There were -81833 null values modified and 10043516 rows eliminated from the original dataset.\n"
     ]
    }
   ],
   "source": [
    "# Calculate null value sums and row counts for original dataset\n",
    "null_counts_basics2 = basics2.isna().sum().sum()\n",
    "row_count_basics2 = len(basics2)\n",
    "\n",
    "# Calculate null value sums and row counts for modified dataset\n",
    "null_counts_basics = basics.isna().sum().sum()\n",
    "row_count_basics = len(basics)\n",
    "\n",
    "# Calculate the differences\n",
    "null_count_diff = null_counts_basics2 - null_counts_basics\n",
    "row_count_diff = row_count_basics2 - row_count_basics\n",
    "\n",
    "# Print out the differences\n",
    "print(f\"There were {null_count_diff} null values modified and {row_count_diff} rows eliminated from the original dataset.\")"
   ]
  },
  {
   "cell_type": "code",
   "execution_count": 41,
   "id": "62e3a2a3",
   "metadata": {},
   "outputs": [
    {
     "name": "stdout",
     "output_type": "stream",
     "text": [
      "<class 'pandas.core.frame.DataFrame'>\n",
      "RangeIndex: 1452564 entries, 0 to 1452563\n",
      "Data columns (total 8 columns):\n",
      " #   Column           Non-Null Count    Dtype \n",
      "---  ------           --------------    ----- \n",
      " 0   titleId          1452564 non-null  object\n",
      " 1   ordering         1452564 non-null  int64 \n",
      " 2   title            1452562 non-null  object\n",
      " 3   region           1452564 non-null  object\n",
      " 4   language         4018 non-null     object\n",
      " 5   types            981678 non-null   object\n",
      " 6   attributes       47016 non-null    object\n",
      " 7   isOriginalTitle  1451222 non-null  object\n",
      "dtypes: int64(1), object(7)\n",
      "memory usage: 88.7+ MB\n"
     ]
    }
   ],
   "source": [
    "# View modified akas dataset\n",
    "akas.info()"
   ]
  },
  {
   "cell_type": "code",
   "execution_count": 42,
   "id": "695e5980",
   "metadata": {},
   "outputs": [
    {
     "name": "stdout",
     "output_type": "stream",
     "text": [
      "There were -3326322 null values modified and 0 rows eliminated from the original dataset.\n"
     ]
    }
   ],
   "source": [
    "# Calculate null value sums and row counts for original dataset\n",
    "null_counts_akas2 = akas2.isna().sum().sum()\n",
    "row_count_akas2 = len(akas2)\n",
    "\n",
    "# Calculate null value sums and row counts for modified dataset\n",
    "null_counts_akas = akas.isna().sum().sum()\n",
    "row_count_akas = len(akas)\n",
    "\n",
    "# Calculate the differences\n",
    "null_count_diff_akas = null_counts_akas2 - null_counts_akas\n",
    "row_count_diff_akas = row_count_akas2 - row_count_akas\n",
    "\n",
    "# Print out the differences\n",
    "print(\"There were {} null values modified and {} rows eliminated from the original dataset.\".format(\n",
    "    null_count_diff_akas.sum(), row_count_diff_akas))"
   ]
  },
  {
   "cell_type": "code",
   "execution_count": 43,
   "id": "0ae8ca9e",
   "metadata": {},
   "outputs": [
    {
     "name": "stdout",
     "output_type": "stream",
     "text": [
      "<class 'pandas.core.frame.DataFrame'>\n",
      "Index: 68056 entries, 17893 to 1344368\n",
      "Data columns (total 3 columns):\n",
      " #   Column         Non-Null Count  Dtype  \n",
      "---  ------         --------------  -----  \n",
      " 0   tconst         68056 non-null  object \n",
      " 1   averageRating  68056 non-null  float64\n",
      " 2   numVotes       68056 non-null  int64  \n",
      "dtypes: float64(1), int64(1), object(1)\n",
      "memory usage: 2.1+ MB\n"
     ]
    }
   ],
   "source": [
    "# View modified ratings dataset\n",
    "ratings.info()"
   ]
  },
  {
   "cell_type": "code",
   "execution_count": 44,
   "id": "911bfa85",
   "metadata": {
    "scrolled": true
   },
   "outputs": [
    {
     "name": "stdout",
     "output_type": "stream",
     "text": [
      "There were 0 null values modified and 1276341 rows eliminated from the original dataset.\n"
     ]
    }
   ],
   "source": [
    "# Calculate null value sums and row counts for original dataset\n",
    "null_counts_ratings2 = ratings2.isna().sum().sum()\n",
    "row_count_ratings2 = len(ratings2)\n",
    "\n",
    "# Calculate null value sums and row counts for modified dataset\n",
    "null_counts_ratings = ratings.isna().sum().sum()\n",
    "row_count_ratings = len(ratings)\n",
    "\n",
    "# Calculate the differences\n",
    "null_count_diff_ratings = null_counts_ratings2 - null_counts_ratings\n",
    "row_count_diff_ratings = row_count_ratings2 - row_count_ratings\n",
    "\n",
    "# Print out the differences\n",
    "print(\"There were {} null values modified and {} rows eliminated from the original dataset.\".format(\n",
    "    null_count_diff_ratings.sum(), row_count_diff_ratings))\n"
   ]
  },
  {
   "cell_type": "markdown",
   "id": "d5c1a138",
   "metadata": {},
   "source": [
    "# Save Cleaned Datasets"
   ]
  },
  {
   "cell_type": "code",
   "execution_count": 45,
   "id": "a859031b",
   "metadata": {},
   "outputs": [
    {
     "name": "stdout",
     "output_type": "stream",
     "text": [
      "DataFrames saved to compressed CSV files.\n"
     ]
    }
   ],
   "source": [
    "# Define the path to the \"Data/\" folder inside your repository\n",
    "data_folder = \"Data/\"\n",
    "\n",
    "# Save each DataFrame to a compressed CSV file\n",
    "basics.to_csv(data_folder + \"basics_compressed_cleaned.csv.gz\", compression=\"gzip\", index=False)\n",
    "akas.to_csv(data_folder + \"akas_compressed_cleaned.csv.gz\", compression=\"gzip\", index=False)\n",
    "ratings.to_csv(data_folder + \"ratings_compressed_cleaned.csv.gz\", compression=\"gzip\", index=False)\n",
    "\n",
    "print(\"DataFrames saved to compressed CSV files.\")"
   ]
  }
 ],
 "metadata": {
  "kernelspec": {
   "display_name": "Python (dojo-env)",
   "language": "python",
   "name": "dojo-env"
  },
  "language_info": {
   "codemirror_mode": {
    "name": "ipython",
    "version": 3
   },
   "file_extension": ".py",
   "mimetype": "text/x-python",
   "name": "python",
   "nbconvert_exporter": "python",
   "pygments_lexer": "ipython3",
   "version": "3.9.15"
  },
  "toc": {
   "base_numbering": 1,
   "nav_menu": {},
   "number_sections": true,
   "sideBar": true,
   "skip_h1_title": false,
   "title_cell": "Table of Contents",
   "title_sidebar": "Contents",
   "toc_cell": false,
   "toc_position": {},
   "toc_section_display": true,
   "toc_window_display": false
  }
 },
 "nbformat": 4,
 "nbformat_minor": 5
}
